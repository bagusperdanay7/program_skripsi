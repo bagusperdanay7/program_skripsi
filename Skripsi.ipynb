{
 "cells": [
  {
   "cell_type": "code",
   "execution_count": 2,
   "metadata": {
    "id": "Cj4pRFJxR6VV",
    "outputId": "e94ea4fe-3585-43bd-9ffb-df7c073b446c"
   },
   "outputs": [
    {
     "data": {
      "text/html": [
       "<div>\n",
       "<style scoped>\n",
       "    .dataframe tbody tr th:only-of-type {\n",
       "        vertical-align: middle;\n",
       "    }\n",
       "\n",
       "    .dataframe tbody tr th {\n",
       "        vertical-align: top;\n",
       "    }\n",
       "\n",
       "    .dataframe thead th {\n",
       "        text-align: right;\n",
       "    }\n",
       "</style>\n",
       "<table border=\"1\" class=\"dataframe\">\n",
       "  <thead>\n",
       "    <tr style=\"text-align: right;\">\n",
       "      <th></th>\n",
       "      <th>0</th>\n",
       "      <th>1</th>\n",
       "      <th>2</th>\n",
       "    </tr>\n",
       "  </thead>\n",
       "  <tbody>\n",
       "    <tr>\n",
       "      <th>0</th>\n",
       "      <td>Kusyati Nisa</td>\n",
       "      <td>5</td>\n",
       "      <td>Mantaf skali mudah juga buat ikut pelatihan pr...</td>\n",
       "    </tr>\n",
       "    <tr>\n",
       "      <th>1</th>\n",
       "      <td>Nurul Latifah</td>\n",
       "      <td>5</td>\n",
       "      <td>keren buat beli kartu prakerjaa</td>\n",
       "    </tr>\n",
       "    <tr>\n",
       "      <th>2</th>\n",
       "      <td>Lukman Hadi</td>\n",
       "      <td>1</td>\n",
       "      <td>Lapak saya dibekukan, sudah komplain tidak ada...</td>\n",
       "    </tr>\n",
       "    <tr>\n",
       "      <th>3</th>\n",
       "      <td>Felisona Hulu</td>\n",
       "      <td>1</td>\n",
       "      <td>Benar2 mengecewakan.Respon sangat lama.pokok n...</td>\n",
       "    </tr>\n",
       "    <tr>\n",
       "      <th>4</th>\n",
       "      <td>Don faizal</td>\n",
       "      <td>5</td>\n",
       "      <td>Ini adalah salah satu tempat terbaik untuk bel...</td>\n",
       "    </tr>\n",
       "    <tr>\n",
       "      <th>...</th>\n",
       "      <td>...</td>\n",
       "      <td>...</td>\n",
       "      <td>...</td>\n",
       "    </tr>\n",
       "    <tr>\n",
       "      <th>2995</th>\n",
       "      <td>Wa hyu</td>\n",
       "      <td>5</td>\n",
       "      <td>Kenapa selalu muncul iklan, padahal aplikasi s...</td>\n",
       "    </tr>\n",
       "    <tr>\n",
       "      <th>2996</th>\n",
       "      <td>Pengguna Google</td>\n",
       "      <td>3</td>\n",
       "      <td>Tolong dong.. sejak update memori penyimpanan ...</td>\n",
       "    </tr>\n",
       "    <tr>\n",
       "      <th>2997</th>\n",
       "      <td>Pengguna Google</td>\n",
       "      <td>3</td>\n",
       "      <td>Saya senang banget berbelanja di bukalapak, se...</td>\n",
       "    </tr>\n",
       "    <tr>\n",
       "      <th>2998</th>\n",
       "      <td>Pengguna Google</td>\n",
       "      <td>1</td>\n",
       "      <td>Aplikasi tidak berjalan.sudah di re instal tet...</td>\n",
       "    </tr>\n",
       "    <tr>\n",
       "      <th>2999</th>\n",
       "      <td>Pengguna Google</td>\n",
       "      <td>2</td>\n",
       "      <td>Dana Hasil Penjualan Tidak bisa otomatis masuk...</td>\n",
       "    </tr>\n",
       "  </tbody>\n",
       "</table>\n",
       "<p>3000 rows × 3 columns</p>\n",
       "</div>"
      ],
      "text/plain": [
       "                    0  1                                                  2\n",
       "0        Kusyati Nisa  5  Mantaf skali mudah juga buat ikut pelatihan pr...\n",
       "1       Nurul Latifah  5                    keren buat beli kartu prakerjaa\n",
       "2         Lukman Hadi  1  Lapak saya dibekukan, sudah komplain tidak ada...\n",
       "3       Felisona Hulu  1  Benar2 mengecewakan.Respon sangat lama.pokok n...\n",
       "4          Don faizal  5  Ini adalah salah satu tempat terbaik untuk bel...\n",
       "...               ... ..                                                ...\n",
       "2995           Wa hyu  5  Kenapa selalu muncul iklan, padahal aplikasi s...\n",
       "2996  Pengguna Google  3  Tolong dong.. sejak update memori penyimpanan ...\n",
       "2997  Pengguna Google  3  Saya senang banget berbelanja di bukalapak, se...\n",
       "2998  Pengguna Google  1  Aplikasi tidak berjalan.sudah di re instal tet...\n",
       "2999  Pengguna Google  2  Dana Hasil Penjualan Tidak bisa otomatis masuk...\n",
       "\n",
       "[3000 rows x 3 columns]"
      ]
     },
     "execution_count": 2,
     "metadata": {},
     "output_type": "execute_result"
    }
   ],
   "source": [
    "import numpy as np\n",
    "import pandas as pd\n",
    "\n",
    "# menampilkan data tanpa label\n",
    "dataframe_sentiment = pd.read_csv('dataset.csv', header=None)\n",
    "dataframe_sentiment\n",
    "# Menghilangkan"
   ]
  },
  {
   "cell_type": "code",
   "execution_count": null,
   "metadata": {
    "id": "lvNbI6NeR6VY",
    "outputId": "f5ef85eb-5117-4fdd-efe3-80099b29238d"
   },
   "outputs": [
    {
     "name": "stdout",
     "output_type": "stream",
     "text": [
      "<class 'pandas.core.frame.DataFrame'>\n",
      "RangeIndex: 3000 entries, 0 to 2999\n",
      "Data columns (total 3 columns):\n",
      " #   Column  Non-Null Count  Dtype \n",
      "---  ------  --------------  ----- \n",
      " 0   0       3000 non-null   object\n",
      " 1   1       3000 non-null   int64 \n",
      " 2   2       3000 non-null   object\n",
      "dtypes: int64(1), object(2)\n",
      "memory usage: 70.4+ KB\n"
     ]
    }
   ],
   "source": [
    "dataframe_sentiment.info()\n",
    "# Menghilangkan"
   ]
  },
  {
   "cell_type": "code",
   "execution_count": null,
   "metadata": {
    "id": "wJOCrVuUR6VZ",
    "outputId": "c26d138d-b528-4fd0-da3b-e5a0272baee6"
   },
   "outputs": [
    {
     "data": {
      "text/html": [
       "<div>\n",
       "<style scoped>\n",
       "    .dataframe tbody tr th:only-of-type {\n",
       "        vertical-align: middle;\n",
       "    }\n",
       "\n",
       "    .dataframe tbody tr th {\n",
       "        vertical-align: top;\n",
       "    }\n",
       "\n",
       "    .dataframe thead th {\n",
       "        text-align: right;\n",
       "    }\n",
       "</style>\n",
       "<table border=\"1\" class=\"dataframe\">\n",
       "  <thead>\n",
       "    <tr style=\"text-align: right;\">\n",
       "      <th></th>\n",
       "      <th>Username</th>\n",
       "      <th>Score</th>\n",
       "      <th>Sentimen</th>\n",
       "    </tr>\n",
       "  </thead>\n",
       "  <tbody>\n",
       "    <tr>\n",
       "      <th>0</th>\n",
       "      <td>Kusyati Nisa</td>\n",
       "      <td>5</td>\n",
       "      <td>Mantaf skali mudah juga buat ikut pelatihan pr...</td>\n",
       "    </tr>\n",
       "    <tr>\n",
       "      <th>1</th>\n",
       "      <td>Nurul Latifah</td>\n",
       "      <td>5</td>\n",
       "      <td>keren buat beli kartu prakerjaa</td>\n",
       "    </tr>\n",
       "    <tr>\n",
       "      <th>2</th>\n",
       "      <td>Lukman Hadi</td>\n",
       "      <td>1</td>\n",
       "      <td>Lapak saya dibekukan, sudah komplain tidak ada...</td>\n",
       "    </tr>\n",
       "    <tr>\n",
       "      <th>3</th>\n",
       "      <td>Felisona Hulu</td>\n",
       "      <td>1</td>\n",
       "      <td>Benar2 mengecewakan.Respon sangat lama.pokok n...</td>\n",
       "    </tr>\n",
       "    <tr>\n",
       "      <th>4</th>\n",
       "      <td>Don faizal</td>\n",
       "      <td>5</td>\n",
       "      <td>Ini adalah salah satu tempat terbaik untuk bel...</td>\n",
       "    </tr>\n",
       "    <tr>\n",
       "      <th>...</th>\n",
       "      <td>...</td>\n",
       "      <td>...</td>\n",
       "      <td>...</td>\n",
       "    </tr>\n",
       "    <tr>\n",
       "      <th>2995</th>\n",
       "      <td>Wa hyu</td>\n",
       "      <td>5</td>\n",
       "      <td>Kenapa selalu muncul iklan, padahal aplikasi s...</td>\n",
       "    </tr>\n",
       "    <tr>\n",
       "      <th>2996</th>\n",
       "      <td>Pengguna Google</td>\n",
       "      <td>3</td>\n",
       "      <td>Tolong dong.. sejak update memori penyimpanan ...</td>\n",
       "    </tr>\n",
       "    <tr>\n",
       "      <th>2997</th>\n",
       "      <td>Pengguna Google</td>\n",
       "      <td>3</td>\n",
       "      <td>Saya senang banget berbelanja di bukalapak, se...</td>\n",
       "    </tr>\n",
       "    <tr>\n",
       "      <th>2998</th>\n",
       "      <td>Pengguna Google</td>\n",
       "      <td>1</td>\n",
       "      <td>Aplikasi tidak berjalan.sudah di re instal tet...</td>\n",
       "    </tr>\n",
       "    <tr>\n",
       "      <th>2999</th>\n",
       "      <td>Pengguna Google</td>\n",
       "      <td>2</td>\n",
       "      <td>Dana Hasil Penjualan Tidak bisa otomatis masuk...</td>\n",
       "    </tr>\n",
       "  </tbody>\n",
       "</table>\n",
       "<p>3000 rows × 3 columns</p>\n",
       "</div>"
      ],
      "text/plain": [
       "             Username  Score  \\\n",
       "0        Kusyati Nisa      5   \n",
       "1       Nurul Latifah      5   \n",
       "2         Lukman Hadi      1   \n",
       "3       Felisona Hulu      1   \n",
       "4          Don faizal      5   \n",
       "...               ...    ...   \n",
       "2995           Wa hyu      5   \n",
       "2996  Pengguna Google      3   \n",
       "2997  Pengguna Google      3   \n",
       "2998  Pengguna Google      1   \n",
       "2999  Pengguna Google      2   \n",
       "\n",
       "                                               Sentimen  \n",
       "0     Mantaf skali mudah juga buat ikut pelatihan pr...  \n",
       "1                       keren buat beli kartu prakerjaa  \n",
       "2     Lapak saya dibekukan, sudah komplain tidak ada...  \n",
       "3     Benar2 mengecewakan.Respon sangat lama.pokok n...  \n",
       "4     Ini adalah salah satu tempat terbaik untuk bel...  \n",
       "...                                                 ...  \n",
       "2995  Kenapa selalu muncul iklan, padahal aplikasi s...  \n",
       "2996  Tolong dong.. sejak update memori penyimpanan ...  \n",
       "2997  Saya senang banget berbelanja di bukalapak, se...  \n",
       "2998  Aplikasi tidak berjalan.sudah di re instal tet...  \n",
       "2999  Dana Hasil Penjualan Tidak bisa otomatis masuk...  \n",
       "\n",
       "[3000 rows x 3 columns]"
      ]
     },
     "execution_count": 16,
     "metadata": {},
     "output_type": "execute_result"
    }
   ],
   "source": [
    "dataframe_sentiment.columns = ['Username', 'Score', 'Sentimen']\n",
    "dataframe_sentiment\n"
   ]
  },
  {
   "cell_type": "code",
   "execution_count": null,
   "metadata": {
    "id": "nea5nUnpR6Va",
    "outputId": "6cbe3c65-c22f-48ac-f325-fe74fcf2dcce"
   },
   "outputs": [
    {
     "data": {
      "text/html": [
       "<div>\n",
       "<style scoped>\n",
       "    .dataframe tbody tr th:only-of-type {\n",
       "        vertical-align: middle;\n",
       "    }\n",
       "\n",
       "    .dataframe tbody tr th {\n",
       "        vertical-align: top;\n",
       "    }\n",
       "\n",
       "    .dataframe thead th {\n",
       "        text-align: right;\n",
       "    }\n",
       "</style>\n",
       "<table border=\"1\" class=\"dataframe\">\n",
       "  <thead>\n",
       "    <tr style=\"text-align: right;\">\n",
       "      <th></th>\n",
       "      <th>Sentimen</th>\n",
       "    </tr>\n",
       "  </thead>\n",
       "  <tbody>\n",
       "    <tr>\n",
       "      <th>0</th>\n",
       "      <td>Mantaf skali mudah juga buat ikut pelatihan pr...</td>\n",
       "    </tr>\n",
       "    <tr>\n",
       "      <th>1</th>\n",
       "      <td>keren buat beli kartu prakerjaa</td>\n",
       "    </tr>\n",
       "    <tr>\n",
       "      <th>2</th>\n",
       "      <td>Lapak saya dibekukan, sudah komplain tidak ada...</td>\n",
       "    </tr>\n",
       "    <tr>\n",
       "      <th>3</th>\n",
       "      <td>Benar2 mengecewakan.Respon sangat lama.pokok n...</td>\n",
       "    </tr>\n",
       "    <tr>\n",
       "      <th>4</th>\n",
       "      <td>Ini adalah salah satu tempat terbaik untuk bel...</td>\n",
       "    </tr>\n",
       "    <tr>\n",
       "      <th>...</th>\n",
       "      <td>...</td>\n",
       "    </tr>\n",
       "    <tr>\n",
       "      <th>2995</th>\n",
       "      <td>Kenapa selalu muncul iklan, padahal aplikasi s...</td>\n",
       "    </tr>\n",
       "    <tr>\n",
       "      <th>2996</th>\n",
       "      <td>Tolong dong.. sejak update memori penyimpanan ...</td>\n",
       "    </tr>\n",
       "    <tr>\n",
       "      <th>2997</th>\n",
       "      <td>Saya senang banget berbelanja di bukalapak, se...</td>\n",
       "    </tr>\n",
       "    <tr>\n",
       "      <th>2998</th>\n",
       "      <td>Aplikasi tidak berjalan.sudah di re instal tet...</td>\n",
       "    </tr>\n",
       "    <tr>\n",
       "      <th>2999</th>\n",
       "      <td>Dana Hasil Penjualan Tidak bisa otomatis masuk...</td>\n",
       "    </tr>\n",
       "  </tbody>\n",
       "</table>\n",
       "<p>3000 rows × 1 columns</p>\n",
       "</div>"
      ],
      "text/plain": [
       "                                               Sentimen\n",
       "0     Mantaf skali mudah juga buat ikut pelatihan pr...\n",
       "1                       keren buat beli kartu prakerjaa\n",
       "2     Lapak saya dibekukan, sudah komplain tidak ada...\n",
       "3     Benar2 mengecewakan.Respon sangat lama.pokok n...\n",
       "4     Ini adalah salah satu tempat terbaik untuk bel...\n",
       "...                                                 ...\n",
       "2995  Kenapa selalu muncul iklan, padahal aplikasi s...\n",
       "2996  Tolong dong.. sejak update memori penyimpanan ...\n",
       "2997  Saya senang banget berbelanja di bukalapak, se...\n",
       "2998  Aplikasi tidak berjalan.sudah di re instal tet...\n",
       "2999  Dana Hasil Penjualan Tidak bisa otomatis masuk...\n",
       "\n",
       "[3000 rows x 1 columns]"
      ]
     },
     "execution_count": 17,
     "metadata": {},
     "output_type": "execute_result"
    }
   ],
   "source": [
    "# Menghilangkan Kolom Username, dan Score\n",
    "dataframe_sentiment = dataframe_sentiment.drop(['Username', 'Score'], axis=1)\n",
    "dataframe_sentiment"
   ]
  },
  {
   "cell_type": "markdown",
   "metadata": {
    "id": "M4LW5xYyR6Va"
   },
   "source": [
    "## **Tahapan Praproses**"
   ]
  },
  {
   "cell_type": "markdown",
   "metadata": {
    "id": "NN87FLKBR6Vc"
   },
   "source": [
    "##### **Casefolding**"
   ]
  },
  {
   "cell_type": "code",
   "execution_count": null,
   "metadata": {
    "id": "8bWLGP57R6Vc",
    "outputId": "d717313f-edbb-490d-8ceb-dbfb12659b11",
    "scrolled": false
   },
   "outputs": [
    {
     "data": {
      "text/plain": [
       "0       mantaf skali mudah juga buat ikut pelatihan pr...\n",
       "1                         keren buat beli kartu prakerjaa\n",
       "2       lapak saya dibekukan, sudah komplain tidak ada...\n",
       "3       benar2 mengecewakan.respon sangat lama.pokok n...\n",
       "4       ini adalah salah satu tempat terbaik untuk bel...\n",
       "                              ...                        \n",
       "2995    kenapa selalu muncul iklan, padahal aplikasi s...\n",
       "2996    tolong dong.. sejak update memori penyimpanan ...\n",
       "2997    saya senang banget berbelanja di bukalapak, se...\n",
       "2998    aplikasi tidak berjalan.sudah di re instal tet...\n",
       "2999    dana hasil penjualan tidak bisa otomatis masuk...\n",
       "Name: Sentimen, Length: 3000, dtype: object"
      ]
     },
     "execution_count": 18,
     "metadata": {},
     "output_type": "execute_result"
    }
   ],
   "source": [
    "dataframe_sentiment = dataframe_sentiment['Sentimen'].str.lower()\n",
    "dataframe_sentiment\n"
   ]
  },
  {
   "cell_type": "code",
   "execution_count": null,
   "metadata": {
    "id": "6lELVhrqR6Vd"
   },
   "outputs": [],
   "source": [
    "# ubah object menjadi list\n",
    "# praproses = []\n",
    "# for sentimen in dataframe_sentiment:\n",
    "#     praproses.append(sentimen)\n",
    "# praproses"
   ]
  },
  {
   "cell_type": "markdown",
   "metadata": {
    "id": "6UL58xfjR6Ve"
   },
   "source": [
    "##### **Filtering**"
   ]
  },
  {
   "cell_type": "code",
   "execution_count": null,
   "metadata": {
    "id": "9acOkhLHR6Ve",
    "outputId": "975d8815-3b84-4031-df37-06e455fba16e"
   },
   "outputs": [
    {
     "data": {
      "text/plain": [
       "0       mantaf skali mudah juga buat ikut pelatihan pr...\n",
       "1                         keren buat beli kartu prakerjaa\n",
       "2       lapak saya dibekukan, sudah komplain tidak ada...\n",
       "3       benar2 mengecewakan.respon sangat lama.pokok n...\n",
       "4       ini adalah salah satu tempat terbaik untuk bel...\n",
       "                              ...                        \n",
       "2995    kenapa selalu muncul iklan, padahal aplikasi s...\n",
       "2996    tolong dong.. sejak update memori penyimpanan ...\n",
       "2997    saya senang banget berbelanja di bukalapak, se...\n",
       "2998    aplikasi tidak berjalan.sudah di re instal tet...\n",
       "2999    dana hasil penjualan tidak bisa otomatis masuk...\n",
       "Name: Sentimen, Length: 3000, dtype: object"
      ]
     },
     "execution_count": 56,
     "metadata": {},
     "output_type": "execute_result"
    }
   ],
   "source": [
    "# import re\n",
    "# dataframe_sentiment.replace(2, ' ')\n",
    "# dataframe_sentiment"
   ]
  },
  {
   "cell_type": "markdown",
   "metadata": {
    "id": "1s9MEGBAR6Vf"
   },
   "source": [
    "##### **Tokenisasi**"
   ]
  },
  {
   "cell_type": "markdown",
   "metadata": {
    "id": "atDEDUEqR6Vf"
   },
   "source": [
    "##### **Normalisasi**"
   ]
  },
  {
   "cell_type": "markdown",
   "metadata": {
    "id": "6zHRn8RcR6Vf"
   },
   "source": [
    "##### **Stopword Removal**"
   ]
  },
  {
   "cell_type": "code",
   "execution_count": null,
   "metadata": {
    "id": "nlUApgF7R6Vg"
   },
   "outputs": [],
   "source": [
    "# from nltk.corpus import stopwords\n",
    "# stoplist = stopwords.words('english') + ['though']"
   ]
  },
  {
   "cell_type": "markdown",
   "metadata": {
    "id": "vTp-2YJ8R6Vg"
   },
   "source": [
    "##### **Stemming**"
   ]
  },
  {
   "cell_type": "markdown",
   "metadata": {
    "id": "6x7fbia3R6Vg"
   },
   "source": [
    "##### **Pembobotan**"
   ]
  },
  {
   "cell_type": "markdown",
   "metadata": {
    "id": "WAxq41ZYR6Vg"
   },
   "source": [
    "## **Word Embedding**"
   ]
  },
  {
   "cell_type": "code",
   "execution_count": null,
   "metadata": {
    "id": "VFXcVTd4R6Vh"
   },
   "outputs": [],
   "source": []
  },
  {
   "cell_type": "code",
   "execution_count": null,
   "metadata": {
    "id": "yPdrd_iXR6Vh"
   },
   "outputs": [],
   "source": []
  },
  {
   "cell_type": "code",
   "execution_count": null,
   "metadata": {
    "id": "fJDi5XN2R6Vh"
   },
   "outputs": [],
   "source": []
  },
  {
   "cell_type": "code",
   "execution_count": null,
   "metadata": {
    "id": "DEK1OyU8R6Vh"
   },
   "outputs": [],
   "source": []
  },
  {
   "cell_type": "code",
   "execution_count": null,
   "metadata": {
    "id": "hv6V5B5bR6Vh"
   },
   "outputs": [],
   "source": []
  },
  {
   "cell_type": "code",
   "execution_count": null,
   "metadata": {
    "id": "UKPAwR9yR6Vi"
   },
   "outputs": [],
   "source": []
  },
  {
   "cell_type": "code",
   "execution_count": null,
   "metadata": {
    "id": "ff9KJFYeR6Vi"
   },
   "outputs": [],
   "source": []
  },
  {
   "cell_type": "code",
   "execution_count": null,
   "metadata": {
    "id": "A0BRtu3_R6Vi"
   },
   "outputs": [],
   "source": []
  },
  {
   "cell_type": "code",
   "execution_count": null,
   "metadata": {
    "id": "3HknhVZbR6Vi"
   },
   "outputs": [],
   "source": []
  },
  {
   "cell_type": "code",
   "execution_count": null,
   "metadata": {
    "id": "Arxy9acBR6Vi"
   },
   "outputs": [],
   "source": []
  },
  {
   "cell_type": "code",
   "execution_count": null,
   "metadata": {
    "id": "qKRrphn5R6Vi"
   },
   "outputs": [],
   "source": []
  },
  {
   "cell_type": "code",
   "execution_count": null,
   "metadata": {
    "id": "Vd-p41FuR6Vi"
   },
   "outputs": [],
   "source": []
  }
 ],
 "metadata": {
  "colab": {
   "provenance": []
  },
  "kernelspec": {
   "display_name": "Python 3 (ipykernel)",
   "language": "python",
   "name": "python3"
  },
  "language_info": {
   "codemirror_mode": {
    "name": "ipython",
    "version": 3
   },
   "file_extension": ".py",
   "mimetype": "text/x-python",
   "name": "python",
   "nbconvert_exporter": "python",
   "pygments_lexer": "ipython3",
   "version": "3.10.8"
  },
  "vscode": {
   "interpreter": {
    "hash": "5fb9e22d6cb474a5f05f245ce1471996f9d1b79ec2fc1a71ea989e0e63213d9f"
   }
  }
 },
 "nbformat": 4,
 "nbformat_minor": 1
}
