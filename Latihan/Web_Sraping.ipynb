{
 "cells": [
  {
   "attachments": {},
   "cell_type": "markdown",
   "metadata": {},
   "source": [
    "**[Google Play Scraper](https://github.com/JoMingyu/google-play-scraper)**"
   ]
  },
  {
   "cell_type": "code",
   "execution_count": 29,
   "metadata": {},
   "outputs": [],
   "source": [
    "from google_play_scraper import app, Sort, reviews\n",
    "import pandas as pd\n",
    "import numpy as np"
   ]
  },
  {
   "attachments": {},
   "cell_type": "markdown",
   "metadata": {},
   "source": [
    "### Beberapa Ulasan"
   ]
  },
  {
   "cell_type": "code",
   "execution_count": 30,
   "metadata": {},
   "outputs": [
    {
     "data": {
      "text/html": [
       "<div>\n",
       "<style scoped>\n",
       "    .dataframe tbody tr th:only-of-type {\n",
       "        vertical-align: middle;\n",
       "    }\n",
       "\n",
       "    .dataframe tbody tr th {\n",
       "        vertical-align: top;\n",
       "    }\n",
       "\n",
       "    .dataframe thead th {\n",
       "        text-align: right;\n",
       "    }\n",
       "</style>\n",
       "<table border=\"1\" class=\"dataframe\">\n",
       "  <thead>\n",
       "    <tr style=\"text-align: right;\">\n",
       "      <th></th>\n",
       "      <th>userName</th>\n",
       "      <th>content</th>\n",
       "      <th>score</th>\n",
       "      <th>at</th>\n",
       "    </tr>\n",
       "  </thead>\n",
       "  <tbody>\n",
       "    <tr>\n",
       "      <th>0</th>\n",
       "      <td>Anang Baqiyalmustakim</td>\n",
       "      <td>Ntabz</td>\n",
       "      <td>5</td>\n",
       "      <td>2023-01-03 15:04:36</td>\n",
       "    </tr>\n",
       "    <tr>\n",
       "      <th>1</th>\n",
       "      <td>Evi Yuliyanti</td>\n",
       "      <td>Bagusssssss</td>\n",
       "      <td>5</td>\n",
       "      <td>2023-01-03 14:54:51</td>\n",
       "    </tr>\n",
       "    <tr>\n",
       "      <th>2</th>\n",
       "      <td>Rio Sasa</td>\n",
       "      <td>Mantap</td>\n",
       "      <td>5</td>\n",
       "      <td>2023-01-03 14:51:53</td>\n",
       "    </tr>\n",
       "    <tr>\n",
       "      <th>3</th>\n",
       "      <td>leekan cantona</td>\n",
       "      <td>Alhamdulillah sangat membantu.</td>\n",
       "      <td>5</td>\n",
       "      <td>2023-01-03 14:36:51</td>\n",
       "    </tr>\n",
       "    <tr>\n",
       "      <th>4</th>\n",
       "      <td>Tri Andrianto</td>\n",
       "      <td>Pertahankan PROMONYA. ONGKIR JANGAN MAHAL-MAHAL.</td>\n",
       "      <td>5</td>\n",
       "      <td>2023-01-03 14:21:13</td>\n",
       "    </tr>\n",
       "    <tr>\n",
       "      <th>...</th>\n",
       "      <td>...</td>\n",
       "      <td>...</td>\n",
       "      <td>...</td>\n",
       "      <td>...</td>\n",
       "    </tr>\n",
       "    <tr>\n",
       "      <th>95</th>\n",
       "      <td>gendut setiawan</td>\n",
       "      <td>nice</td>\n",
       "      <td>5</td>\n",
       "      <td>2023-01-01 17:33:26</td>\n",
       "    </tr>\n",
       "    <tr>\n",
       "      <th>96</th>\n",
       "      <td>Eko Pramono</td>\n",
       "      <td>Memuaskan belanja di sini</td>\n",
       "      <td>5</td>\n",
       "      <td>2023-01-01 16:33:35</td>\n",
       "    </tr>\n",
       "    <tr>\n",
       "      <th>97</th>\n",
       "      <td>herman santoso</td>\n",
       "      <td>toko online rekomended lah.. polonya mah.. man...</td>\n",
       "      <td>5</td>\n",
       "      <td>2023-01-01 15:51:10</td>\n",
       "    </tr>\n",
       "    <tr>\n",
       "      <th>98</th>\n",
       "      <td>Djunijar Mansyur</td>\n",
       "      <td>mantab</td>\n",
       "      <td>5</td>\n",
       "      <td>2023-01-01 15:46:39</td>\n",
       "    </tr>\n",
       "    <tr>\n",
       "      <th>99</th>\n",
       "      <td>yadi mulyadi mulyadi</td>\n",
       "      <td>cuman belum bisa aktifin paylater dan pinjaman...</td>\n",
       "      <td>5</td>\n",
       "      <td>2023-01-01 15:25:54</td>\n",
       "    </tr>\n",
       "  </tbody>\n",
       "</table>\n",
       "<p>100 rows × 4 columns</p>\n",
       "</div>"
      ],
      "text/plain": [
       "                 userName                                            content  \\\n",
       "0   Anang Baqiyalmustakim                                              Ntabz   \n",
       "1           Evi Yuliyanti                                        Bagusssssss   \n",
       "2                Rio Sasa                                             Mantap   \n",
       "3          leekan cantona                     Alhamdulillah sangat membantu.   \n",
       "4           Tri Andrianto   Pertahankan PROMONYA. ONGKIR JANGAN MAHAL-MAHAL.   \n",
       "..                    ...                                                ...   \n",
       "95        gendut setiawan                                               nice   \n",
       "96            Eko Pramono                          Memuaskan belanja di sini   \n",
       "97         herman santoso  toko online rekomended lah.. polonya mah.. man...   \n",
       "98       Djunijar Mansyur                                             mantab   \n",
       "99   yadi mulyadi mulyadi  cuman belum bisa aktifin paylater dan pinjaman...   \n",
       "\n",
       "    score                  at  \n",
       "0       5 2023-01-03 15:04:36  \n",
       "1       5 2023-01-03 14:54:51  \n",
       "2       5 2023-01-03 14:51:53  \n",
       "3       5 2023-01-03 14:36:51  \n",
       "4       5 2023-01-03 14:21:13  \n",
       "..    ...                 ...  \n",
       "95      5 2023-01-01 17:33:26  \n",
       "96      5 2023-01-01 16:33:35  \n",
       "97      5 2023-01-01 15:51:10  \n",
       "98      5 2023-01-01 15:46:39  \n",
       "99      5 2023-01-01 15:25:54  \n",
       "\n",
       "[100 rows x 4 columns]"
      ]
     },
     "execution_count": 30,
     "metadata": {},
     "output_type": "execute_result"
    }
   ],
   "source": [
    "# Sendiri\n",
    "g_review, continuation_token = reviews(\n",
    "        \"com.bukalapak.android\",\n",
    "        lang='id', # defaults to 'en'\n",
    "        country='id', # defaults to 'us'\n",
    "        sort=Sort.NEWEST, # defaults to Sort.MOST_RELEVANT\n",
    "        count=100, # defaults to 100\n",
    "        filter_score_with=5 # defaults to None(means all score)\n",
    "    )\n",
    "\n",
    "ulasan_data = pd.DataFrame.from_records(g_review)\n",
    "ulasan_data.drop(columns={'userImage', 'reviewCreatedVersion', 'replyContent', 'repliedAt', 'thumbsUpCount', 'reviewId'},inplace = True)\n",
    "\n",
    "ulasan_data"
   ]
  },
  {
   "attachments": {},
   "cell_type": "markdown",
   "metadata": {},
   "source": [
    "**Menyimpan ke Excel**"
   ]
  },
  {
   "cell_type": "code",
   "execution_count": null,
   "metadata": {},
   "outputs": [],
   "source": [
    "ulasan_data.to_excel(\"output/data_scraping.xlsx\")  "
   ]
  },
  {
   "attachments": {},
   "cell_type": "markdown",
   "metadata": {},
   "source": [
    "### Keseluruhan Ulasan"
   ]
  },
  {
   "cell_type": "code",
   "execution_count": 28,
   "metadata": {},
   "outputs": [],
   "source": [
    "# from google_play_scraper import Sort, reviews_all\n",
    "\n",
    "# result = reviews_all(\n",
    "#     'com.birrupee.app',\n",
    "#     sleep_milliseconds=0, # defaults to 0\n",
    "#     lang='en', # defaults to 'en'\n",
    "#     country='us', # defaults to 'us'\n",
    "#     sort=Sort.MOST_RELEVANT, # defaults to Sort.MOST_RELEVANT\n",
    "#     filter_score_with=5 # defaults to None(means all score)\n",
    "# )\n",
    "\n",
    "# all_reviews = pd.DataFrame.from_records(result)\n",
    "# all_reviews"
   ]
  }
 ],
 "metadata": {
  "kernelspec": {
   "display_name": "Python 3.10.8 64-bit",
   "language": "python",
   "name": "python3"
  },
  "language_info": {
   "codemirror_mode": {
    "name": "ipython",
    "version": 3
   },
   "file_extension": ".py",
   "mimetype": "text/x-python",
   "name": "python",
   "nbconvert_exporter": "python",
   "pygments_lexer": "ipython3",
   "version": "3.10.8 (tags/v3.10.8:aaaf517, Oct 11 2022, 16:50:30) [MSC v.1933 64 bit (AMD64)]"
  },
  "orig_nbformat": 4,
  "vscode": {
   "interpreter": {
    "hash": "5fb9e22d6cb474a5f05f245ce1471996f9d1b79ec2fc1a71ea989e0e63213d9f"
   }
  }
 },
 "nbformat": 4,
 "nbformat_minor": 2
}
