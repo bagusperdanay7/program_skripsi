{
 "cells": [
  {
   "cell_type": "markdown",
   "metadata": {},
   "source": [
    "**Penambahan Token Aspek**"
   ]
  },
  {
   "cell_type": "markdown",
   "metadata": {},
   "source": []
  },
  {
   "cell_type": "code",
   "execution_count": 24,
   "metadata": {},
   "outputs": [
    {
     "name": "stdout",
     "output_type": "stream",
     "text": [
      "101\n"
     ]
    }
   ],
   "source": [
    "token_aspek = ['<LAYANAN>', '<FITUR>', '<KEBERMANFAATAN>', '<BISNIS>', '<NON ASPEK>']\n",
    "\n",
    "list_1 = ['senang', 'belanja', 'online', 'belanja', 'tidak_pernah', 'tertipu', 'penjualnya', 'jujur', 'ramah', 'layanan', 'pelanggan', 'sopan', 'kendala', 'beda', 'toko', 'online', 'shop', 'sebelah', 'tertipu', 'dionline', 'shop', 'sebelah', 'online', 'shope', 'nyaman', 'belanja', 'apapun', 'kesal', 'serbu', 'seru', 'belum_pernah', 'barang']\n",
    "\n",
    "list_2 = ['aplikasi', 'bermanfaat', 'membantu', 'jaman', 'mudah', 'cepat']\n",
    "\n",
    "list_3 = ['top', 'fitur', 'harganya', 'bermanfaat', 'sukses', 'excelent', 'nomor', 'wahid']\n",
    "\n",
    "list_4 = ['pelayanan', 'penjual', 'jelek', 'bukadompet', 'dibekukan', 'komplain', 'berulang', 'bukti', 'transaksi', 'valid', 'dibekukan', 'hasil', 'penjualan', 'ditahan', 'mohon', 'aktifkan', 'bukadompet']\n",
    "\n",
    "list_5 = ['bukalapak', 'bagus', 'barang', 'sesuai', 'pengiriman', 'cepat', 'tingkatkan', 'admin', 'biar', 'semangat', 'belanja', 'bukalapak', 'hahaha']\n",
    "\n",
    "\n",
    "for aspek in token_aspek:\n",
    "    list_1.append(aspek)\n",
    "    list_2.append(aspek)\n",
    "    list_3.append(aspek)\n",
    "    list_4.append(aspek)\n",
    "    list_5.append(aspek)\n",
    "\n",
    "\n",
    "gabungan_list = list_1 + list_2 + list_3 + list_4 + list_5\n",
    "\n",
    "print(len(gabungan_list))"
   ]
  },
  {
   "cell_type": "code",
   "execution_count": 64,
   "metadata": {},
   "outputs": [
    {
     "name": "stdout",
     "output_type": "stream",
     "text": [
      "67\n",
      "{'fitur', 'nyaman', 'pelayanan', '<LAYANAN>', 'mohon', 'toko', 'sebelah', 'dionline', 'jujur', 'layanan', 'shope', 'tingkatkan', 'cepat', 'online', 'kesal', 'senang', '<BISNIS>', 'wahid', 'membantu', 'dibekukan', 'harganya', 'aktifkan', 'serbu', 'bukadompet', 'pelanggan', 'penjualan', 'bukalapak', 'bukti', 'sesuai', 'aplikasi', 'penjualnya', '<KEBERMANFAATAN>', 'komplain', 'biar', 'belanja', 'barang', '<FITUR>', '<NON ASPEK>', 'jelek', 'pengiriman', 'bermanfaat', 'semangat', 'hahaha', 'beda', 'top', 'hasil', 'tertipu', 'sukses', 'transaksi', 'kendala', 'valid', 'excelent', 'admin', 'penjual', 'berulang', 'bagus', 'belum_pernah', 'sopan', 'seru', 'mudah', 'shop', 'tidak_pernah', 'ramah', 'jaman', 'ditahan', 'nomor', 'apapun'}\n"
     ]
    }
   ],
   "source": [
    "# Pembuatan Kamus Corpus\n",
    "kamus_corpus = set()\n",
    "\n",
    "kamus_corpus = kamus_corpus.union(gabungan_list)\n",
    "\n",
    "print(len(kamus_corpus))\n",
    "\n",
    "print(kamus_corpus)\n",
    "\n",
    "\n"
   ]
  }
 ],
 "metadata": {
  "kernelspec": {
   "display_name": "Python 3.10.8 64-bit",
   "language": "python",
   "name": "python3"
  },
  "language_info": {
   "codemirror_mode": {
    "name": "ipython",
    "version": 3
   },
   "file_extension": ".py",
   "mimetype": "text/x-python",
   "name": "python",
   "nbconvert_exporter": "python",
   "pygments_lexer": "ipython3",
   "version": "3.10.8"
  },
  "orig_nbformat": 4,
  "vscode": {
   "interpreter": {
    "hash": "5fb9e22d6cb474a5f05f245ce1471996f9d1b79ec2fc1a71ea989e0e63213d9f"
   }
  }
 },
 "nbformat": 4,
 "nbformat_minor": 2
}
