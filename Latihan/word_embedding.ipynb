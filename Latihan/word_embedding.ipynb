{
 "cells": [
  {
   "cell_type": "markdown",
   "metadata": {},
   "source": [
    "**Penambahan Token Aspek**"
   ]
  },
  {
   "cell_type": "code",
   "execution_count": 55,
   "metadata": {},
   "outputs": [
    {
     "name": "stdout",
     "output_type": "stream",
     "text": [
      "['senang', 'belanja', 'online', 'belanja', 'tidak_pernah', 'tertipu', 'penjualnya', 'jujur', 'ramah', 'layanan', 'pelanggan', 'sopan', 'kendala', 'beda', 'toko', 'online', 'shop', 'sebelah', 'tertipu', 'dionline', 'shop', 'sebelah', 'online', 'shope', 'nyaman', 'belanja', 'apapun', 'kesal', 'serbu', 'seru', 'belum_pernah', 'barang', '<LAYANAN>', '<FITUR>', '<KEBERMANFAATAN>', '<BISNIS>', '<NON ASPEK>', 'aplikasi', 'bermanfaat', 'membantu', 'jaman', 'mudah', 'cepat', '<LAYANAN>', '<FITUR>', '<KEBERMANFAATAN>', '<BISNIS>', '<NON ASPEK>', 'top', 'fitur', 'harganya', 'bermanfaat', 'sukses', 'excelent', 'nomor', 'wahid', '<LAYANAN>', '<FITUR>', '<KEBERMANFAATAN>', '<BISNIS>', '<NON ASPEK>', 'pelayanan', 'penjual', 'jelek', 'bukadompet', 'dibekukan', 'komplain', 'berulang', 'bukti', 'transaksi', 'valid', 'dibekukan', 'hasil', 'penjualan', 'ditahan', 'mohon', 'aktifkan', 'bukadompet', '<LAYANAN>', '<FITUR>', '<KEBERMANFAATAN>', '<BISNIS>', '<NON ASPEK>', 'bukalapak', 'bagus', 'barang', 'sesuai', 'pengiriman', 'cepat', 'tingkatkan', 'admin', 'biar', 'semangat', 'belanja', 'bukalapak', 'hahaha', '<LAYANAN>', '<FITUR>', '<KEBERMANFAATAN>', '<BISNIS>', '<NON ASPEK>']\n",
      "\n",
      "\n",
      "Word Index: \n",
      " {'layanan': 1, 'fitur': 2, 'kebermanfaatan': 3, 'bisnis': 4, 'non': 5, 'aspek': 6, 'belanja': 7, 'online': 8, 'pernah': 9, 'tertipu': 10, 'shop': 11, 'sebelah': 12, 'barang': 13, 'bermanfaat': 14, 'cepat': 15, 'bukadompet': 16, 'dibekukan': 17, 'bukalapak': 18, 'senang': 19, 'tidak': 20, 'penjualnya': 21, 'jujur': 22, 'ramah': 23, 'pelanggan': 24, 'sopan': 25, 'kendala': 26, 'beda': 27, 'toko': 28, 'dionline': 29, 'shope': 30, 'nyaman': 31, 'apapun': 32, 'kesal': 33, 'serbu': 34, 'seru': 35, 'belum': 36, 'aplikasi': 37, 'membantu': 38, 'jaman': 39, 'mudah': 40, 'top': 41, 'harganya': 42, 'sukses': 43, 'excelent': 44, 'nomor': 45, 'wahid': 46, 'pelayanan': 47, 'penjual': 48, 'jelek': 49, 'komplain': 50, 'berulang': 51, 'bukti': 52, 'transaksi': 53, 'valid': 54, 'hasil': 55, 'penjualan': 56, 'ditahan': 57, 'mohon': 58, 'aktifkan': 59, 'bagus': 60, 'sesuai': 61, 'pengiriman': 62, 'tingkatkan': 63, 'admin': 64, 'biar': 65, 'semangat': 66, 'hahaha': 67}\n",
      "67\n"
     ]
    },
    {
     "data": {
      "text/plain": [
       "[[18], [60], [13], [61], [62], [15], [63], [64], [65], [66], [7], [18], [67]]"
      ]
     },
     "execution_count": 55,
     "metadata": {},
     "output_type": "execute_result"
    }
   ],
   "source": [
    "from keras.preprocessing.text import Tokenizer\n",
    "\n",
    "\n",
    "list_1 = ['senang', 'belanja', 'online', 'belanja', 'tidak_pernah', 'tertipu', 'penjualnya', 'jujur', 'ramah', 'layanan', 'pelanggan', 'sopan', 'kendala', 'beda', 'toko', 'online', 'shop', 'sebelah', 'tertipu', 'dionline', 'shop', 'sebelah', 'online', 'shope', 'nyaman', 'belanja', 'apapun', 'kesal', 'serbu', 'seru', 'belum_pernah', 'barang']\n",
    "\n",
    "list_2 = ['aplikasi', 'bermanfaat', 'membantu', 'jaman', 'mudah', 'cepat']\n",
    "\n",
    "list_3 = ['top', 'fitur', 'harganya', 'bermanfaat', 'sukses', 'excelent', 'nomor', 'wahid']\n",
    "\n",
    "list_4 = ['pelayanan', 'penjual', 'jelek', 'bukadompet', 'dibekukan', 'komplain', 'berulang', 'bukti', 'transaksi', 'valid', 'dibekukan', 'hasil', 'penjualan', 'ditahan', 'mohon', 'aktifkan', 'bukadompet']\n",
    "\n",
    "list_5 = ['bukalapak', 'bagus', 'barang', 'sesuai', 'pengiriman', 'cepat', 'tingkatkan', 'admin', 'biar', 'semangat', 'belanja', 'bukalapak', 'hahaha']\n",
    "\n",
    "token_aspek = ['<LAYANAN>', '<FITUR>', '<KEBERMANFAATAN>', '<BISNIS>', '<NON ASPEK>']\n",
    "\n",
    "for aspek in token_aspek:\n",
    "    list_1.append(aspek)\n",
    "    list_2.append(aspek)\n",
    "    list_3.append(aspek)\n",
    "    list_4.append(aspek)\n",
    "    list_5.append(aspek)\n",
    "\n",
    "gabungan_list = list_1 + list_2 + list_3 + list_4 + list_5\n",
    "print(gabungan_list)\n",
    "\n",
    "tokenizer = Tokenizer(num_words=5000)\n",
    "tokenizer.fit_on_texts(gabungan_list)\n",
    "\n",
    "# cari cara biar yang tidak ada di training jadi UNKNOWN\n",
    "test_korpus = ['bukalapak', 'bagus', 'barang', 'sesuai', 'pengiriman', 'cepat', 'tingkatkan', 'admin', 'biar', 'semangat', 'belanja', 'bukalapak', 'hahaha']\n",
    "\n",
    "# training_korpus = tokenizer.texts_to_sequences(test_korpus)\n",
    "training_korpus = tokenizer.texts_to_sequences(\n",
    "    test_korpus\n",
    ")\n",
    "\n",
    "word_index = tokenizer.word_index\n",
    "print('\\n')\n",
    "print('Word Index: \\n', word_index)\n",
    "\n",
    "vocab_size = len(tokenizer.word_counts)\n",
    "print(vocab_size)\n",
    "\n",
    "training_korpus"
   ]
  },
  {
   "cell_type": "code",
   "execution_count": 56,
   "metadata": {},
   "outputs": [
    {
     "name": "stdout",
     "output_type": "stream",
     "text": [
      "67\n",
      "{'sesuai', 'hasil', 'dibekukan', 'senang', 'belanja', 'wahid', '<LAYANAN>', 'pelayanan', 'penjual', 'komplain', 'toko', 'seru', 'penjualan', 'bagus', 'admin', 'kesal', 'aplikasi', 'sukses', 'mohon', 'bukalapak', 'layanan', 'tertipu', 'hahaha', 'jujur', 'kendala', '<NON ASPEK>', 'nomor', 'excelent', 'apapun', 'pengiriman', 'pelanggan', 'tidak_pernah', 'online', 'tingkatkan', 'ramah', 'shope', 'jaman', 'sebelah', 'biar', 'membantu', 'sopan', 'shop', 'beda', 'bukti', 'cepat', 'barang', 'fitur', 'semangat', 'aktifkan', 'jelek', 'transaksi', 'nyaman', 'dionline', 'serbu', '<FITUR>', 'top', 'valid', 'penjualnya', '<KEBERMANFAATAN>', 'harganya', 'berulang', 'ditahan', 'bermanfaat', 'belum_pernah', 'bukadompet', '<BISNIS>', 'mudah'}\n"
     ]
    }
   ],
   "source": [
    "# Pembuatan Kamus Corpus\n",
    "kamus_corpus = set()\n",
    "\n",
    "kamus_corpus = kamus_corpus.union(gabungan_list)\n",
    "\n",
    "print(len(kamus_corpus))\n",
    "\n",
    "print(kamus_corpus)\n",
    " \n",
    "\n"
   ]
  },
  {
   "cell_type": "code",
   "execution_count": 57,
   "metadata": {},
   "outputs": [
    {
     "data": {
      "text/plain": [
       "{'kataba': ['V:', '3rd_sg_masc_perf_active'],\n",
       " 'kataba:': ['V:', '3rd_dual_masc_perf_active'],\n",
       " 'katabu:': ['V:', '3rd_pl_masc_perf_active'],\n",
       " 'katabat': ['V:', '3rd_sg_fm_perf_active'],\n",
       " 'katabata:': ['V:', '3rd_dual_fm_perf_active']}"
      ]
     },
     "execution_count": 57,
     "metadata": {},
     "output_type": "execute_result"
    }
   ],
   "source": [
    "lst = [['kataba', 'V:', '3rd_sg_masc_perf_active'], ['kataba:', 'V:', '3rd_dual_masc_perf_active'], ['katabu:', 'V:', '3rd_pl_masc_perf_active'], ['katabat', 'V:', '3rd_sg_fm_perf_active'], ['katabata:', 'V:', '3rd_dual_fm_perf_active']]\n",
    "{ k[0]: k[1:] for k in lst }"
   ]
  }
 ],
 "metadata": {
  "kernelspec": {
   "display_name": "Python 3.10.8 64-bit",
   "language": "python",
   "name": "python3"
  },
  "language_info": {
   "codemirror_mode": {
    "name": "ipython",
    "version": 3
   },
   "file_extension": ".py",
   "mimetype": "text/x-python",
   "name": "python",
   "nbconvert_exporter": "python",
   "pygments_lexer": "ipython3",
   "version": "3.10.8"
  },
  "orig_nbformat": 4,
  "vscode": {
   "interpreter": {
    "hash": "5fb9e22d6cb474a5f05f245ce1471996f9d1b79ec2fc1a71ea989e0e63213d9f"
   }
  }
 },
 "nbformat": 4,
 "nbformat_minor": 2
}
