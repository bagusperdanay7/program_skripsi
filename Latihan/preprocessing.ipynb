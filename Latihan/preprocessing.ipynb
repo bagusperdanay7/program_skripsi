{
 "cells": [
  {
   "cell_type": "code",
   "execution_count": 66,
   "metadata": {},
   "outputs": [
    {
     "name": "stdout",
     "output_type": "stream",
     "text": [
      "['bukalapak', 'bagus', 'barang', 'sesuai', 'pengiriman', 'cepat', 'tingkatkan', 'min', 'biar', 'makin', 'semangat', 'belanja', 'd', 'bukalapak', 'nya', 'wkwkwk']\n"
     ]
    },
    {
     "data": {
      "text/plain": [
       "'bukalapak bagus barang sesuai pengiriman cepat tingkatkan admin biar makin semangat belanja di bukalapak nya hahaha'"
      ]
     },
     "execution_count": 66,
     "metadata": {},
     "output_type": "execute_result"
    }
   ],
   "source": [
    "import pandas as pd\n",
    "\n",
    "kamus_informal_to_formal = pd.read_csv('kamus_normalization.tsv',sep='\\t')\n",
    "kamus_informal_to_formal = kamus_informal_to_formal.iloc[:,1:3]\n",
    "\n",
    "\n",
    "kamus_normalisasi = {}\n",
    "\n",
    "# penambahan yang tidak ada di kamus sebelumnya, wahid -> satu\n",
    "kamus_normalisasi = {\"x\": \"kali\", \"now\": \"sekarang\", \"min\": \"admin\"}\n",
    "\n",
    "for index, row in kamus_informal_to_formal.iterrows():\n",
    "    if row[0] not in kamus_normalisasi:\n",
    "        kamus_normalisasi[row[0]] = row[1]\n",
    "\n",
    "\n",
    "kamus_normalisasi\n",
    "\n",
    "kalimat_ulasan = \"bukalapak bagus barang sesuai pengiriman cepat tingkatkan min biar makin semangat belanja d bukalapak nya wkwkwk\"\n",
    "\n",
    "\n",
    "# convert string to list of words\n",
    "ulasan_akhir = kalimat_ulasan.split()\n",
    "print(ulasan_akhir)\n",
    "\n",
    "setelah_wordnorm = [kamus_normalisasi[word] if word in kamus_normalisasi else word for word in ulasan_akhir]\n",
    "\n",
    "akhir_word_norm = ' '.join(setelah_wordnorm)\n",
    "\n",
    "akhir_word_norm\n",
    "\n",
    "# def normalisasi_kata(text):\n",
    "#     return [kamus_normalisasi[word] if word in kamus_normalisasi else word for word in text]\n",
    "# dataset['Review'] = dataset['Review'].apply(lambda text: normalisasi_kata(text))\n",
    "\n",
    "# kalimat_word_norm\n"
   ]
  },
  {
   "cell_type": "code",
   "execution_count": 67,
   "metadata": {},
   "outputs": [
    {
     "data": {
      "text/plain": [
       "'bukalapak bagus barang sesuai pengiriman cepat tingkatkan admin biar makin semangat belanja di bukalapak nya hahaha'"
      ]
     },
     "execution_count": 67,
     "metadata": {},
     "output_type": "execute_result"
    }
   ],
   "source": [
    "def convert_negation(teks):\n",
    "    convert_tidak = teks.replace(\"tidak \", \"tidak_\")\n",
    "    convert_belum = convert_tidak.replace(\"belum \", \"belum_\")\n",
    "    last_convert = convert_belum.replace(\"bukan \", \"bukan_\")\n",
    "\n",
    "    return last_convert\n",
    "\n",
    "hasil_convert = convert_negation(akhir_word_norm)\n",
    "hasil_convert"
   ]
  },
  {
   "cell_type": "code",
   "execution_count": 73,
   "metadata": {},
   "outputs": [
    {
     "name": "stdout",
     "output_type": "stream",
     "text": [
      "['bukalapak', 'bagus', 'barang', 'sesuai', 'pengiriman', 'cepat', 'tingkatkan', 'admin', 'biar', 'makin', 'semangat', 'belanja', 'di', 'bukalapak', 'nya', 'hahaha']\n"
     ]
    }
   ],
   "source": [
    "from nltk.tokenize import word_tokenize\n",
    "tokenisasi = word_tokenize(hasil_convert)\n",
    "print(tokenisasi)"
   ]
  },
  {
   "cell_type": "code",
   "execution_count": 75,
   "metadata": {},
   "outputs": [
    {
     "name": "stdout",
     "output_type": "stream",
     "text": [
      "['bukalapak', 'bagus', 'barang', 'sesuai', 'pengiriman', 'cepat', 'tingkatkan', 'admin', 'biar', 'semangat', 'belanja', 'bukalapak', 'hahaha']\n"
     ]
    }
   ],
   "source": [
    "from nltk.corpus import stopwords\n",
    "STOPWORDS = stopwords.words('indonesian')\n",
    "# print(STOPWORDS)\n",
    "STOPWORDS.extend(['kali', 'nya'])\n",
    "# STOPWORDS.extend(['amp','hahaha','ya','bnr','bener','iya','dikit','sih','nya', 'yg', 'dll','gara', 'dan lain', 'dan lain-lain', 'oh','y','g','yes', 'yang','gak','bgt','ku','buat','karena','karna','ga','udah','udh','pas','kalau','kalo','eh','deh','coba','oke','a','aa','aaa','aaaa','aaaaa','huhuhu','hihihi','hahaha','hehehe','he','heh','hehe','si','ah','aja','ni','ini','xixi','da'])\n",
    "\n",
    "stopword_list = set(STOPWORDS)\n",
    "\n",
    "# Kata yang tidak seharusnya dibuang : membuat, dapat\n",
    "# stopword_list.remove(\"dapat\")\n",
    "\n",
    "\n",
    "list_baru = []\n",
    "for word in tokenisasi:\n",
    "    if word not in stopword_list:\n",
    "        list_baru.append(word)\n",
    "\n",
    "print(list_baru)\n",
    "# def stopword_removal(text):\n",
    "#     return [word for word in text if word not in stopword_list]\n",
    "\n",
    "# dataset['Review'] = dataset['Review'].apply(lambda text: stopword_removal(text))\n",
    "# dataset"
   ]
  },
  {
   "cell_type": "code",
   "execution_count": 40,
   "metadata": {},
   "outputs": [
    {
     "name": "stdout",
     "output_type": "stream",
     "text": [
      "['bagus', 'banget', 'depan', 'tolong', 'tingkat', 'tampil', 'ui', 'nya', 'nyaman', 'belanja', 'tingkat']\n"
     ]
    }
   ],
   "source": [
    "# Stemming\n",
    "from Sastrawi.Stemmer.StemmerFactory import StemmerFactory\n",
    "factory = StemmerFactory()\n",
    "stemmer = factory.create_stemmer()\n",
    " \n",
    "kalimat = \"'bagus', 'banget', 'kedepannya', 'tolong', 'tingkatkan', 'tampilan', 'ui', 'nya', 'kenyamanan', 'belanja', 'meningkat'\"\n",
    "hasil = stemmer.stem(kalimat)\n",
    "word_tokens = word_tokenize(hasil)\n",
    "print(word_tokens)\n",
    "\n",
    "# ouput\n",
    "# andi kerap laku transaksi rutin cara daring atau online turut andi belanja online lebih praktis murah"
   ]
  }
 ],
 "metadata": {
  "kernelspec": {
   "display_name": "Python 3.10.8 64-bit",
   "language": "python",
   "name": "python3"
  },
  "language_info": {
   "codemirror_mode": {
    "name": "ipython",
    "version": 3
   },
   "file_extension": ".py",
   "mimetype": "text/x-python",
   "name": "python",
   "nbconvert_exporter": "python",
   "pygments_lexer": "ipython3",
   "version": "3.10.8"
  },
  "orig_nbformat": 4,
  "vscode": {
   "interpreter": {
    "hash": "5fb9e22d6cb474a5f05f245ce1471996f9d1b79ec2fc1a71ea989e0e63213d9f"
   }
  }
 },
 "nbformat": 4,
 "nbformat_minor": 2
}
