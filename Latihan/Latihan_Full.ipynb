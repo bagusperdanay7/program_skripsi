{
 "cells": [
  {
   "cell_type": "markdown",
   "metadata": {},
   "source": [
    "**Case Folding**"
   ]
  },
  {
   "cell_type": "code",
   "execution_count": 93,
   "metadata": {},
   "outputs": [
    {
     "data": {
      "text/plain": [
       "'https://docs.python.org/3/library/re.html bukalapak bagus barang sesuai pengiriman cepat tingkatkan min biar makin semangat belanja d bukalapak  nya wkwkwk 12234!?!@#$%^&*()+_-= ][{};:\"/><.,!! \\t '"
      ]
     },
     "execution_count": 93,
     "metadata": {},
     "output_type": "execute_result"
    }
   ],
   "source": [
    "kalimat_ulasan = \"\"\"https://docs.python.org/3/library/re.html Bukalapak bagus barang sesuai pengiriman cepat tingkatkan min biar makin semangat belanja d bukalapak  nya wkwkwk 12234!?!@#$%^&*()+_-= ][{};:\"/><.,!! \\t \"\"\"\n",
    "\n",
    "# case folding\n",
    "case_fold_ulasan = kalimat_ulasan.lower()\n",
    "\n",
    "case_fold_ulasan"
   ]
  },
  {
   "cell_type": "markdown",
   "metadata": {},
   "source": [
    "**Filtering**"
   ]
  },
  {
   "cell_type": "code",
   "execution_count": 95,
   "metadata": {},
   "outputs": [
    {
     "name": "stdout",
     "output_type": "stream",
     "text": [
      " bukalapak bagus barang sesuai pengiriman cepat tingkatkan min biar makin semangat belanja d bukalapak  nya wkwkwk 12234!?!@#$%^&*()+_-= ][{};:\"/><.,!! \t \n",
      " bukalapak bagus barang sesuai pengiriman cepat tingkatkan min biar makin semangat belanja d bukalapak nya wkwkwk 12234 _ \n",
      "bukalapak bagus barang sesuai pengiriman cepat tingkatkan min biar makin semangat belanja d bukalapak nya wkwkwk _\n",
      "bukalapak bagus barang sesuai pengiriman cepat tingkatkan min biar makin semangat belanja d bukalapak nya wkwkwk _\n",
      "bukalapak bagus barang sesuai pengiriman cepat tingkatkan min biar makin semangat belanja d bukalapak nya wkwkwk _\n",
      "bukalapak bagus barang sesuai pengiriman cepat tingkatkan min biar makin semangat belanja d bukalapak nya wkwkwk _\n",
      "bukalapak bagus barang sesuai pengiriman cepat tingkatkan min biar makin semangat belanja d bukalapak nya wkwkwk \n",
      "bukalapak bagus barang sesuai pengiriman cepat tingkatkan min biar makin semangat belanja  bukalapak nya wkwkwk \n"
     ]
    }
   ],
   "source": [
    "import re\n",
    "import string\n",
    "\n",
    "# menghilangkan url\n",
    "\n",
    "step_1 = re.sub(r'http\\S+', '', case_fold_ulasan)\n",
    "step_1 = re.sub(r'https\\S+', '', case_fold_ulasan)\n",
    "print(step_1)\n",
    "\n",
    "# menghilangkan spasi dan tanda baca kecuali underscore\n",
    "step_2 = re.sub(r'''         \n",
    "            \\W+ \n",
    "            \\s*     \n",
    "            ''',    \n",
    "            ' ',    \n",
    "            step_1,\n",
    "            flags=re.VERBOSE)\n",
    "    \n",
    "print(step_2)\n",
    "\n",
    "# Menghilangkan angka\n",
    "step_3 = ' '.join(re.sub(r\"\\d+\", \"\", step_2).split())\n",
    "print(step_3)\n",
    "\n",
    "# Menghilangkan Unicode, spasi tab, dan, new line \n",
    "step_4 = step_3.replace('\\\\t',\" \").replace('\\\\n',\" \").replace('\\\\u',\" \")\n",
    "print(step_4)    \n",
    "\n",
    "# Encoding dan decode ascii (konversi byte)\n",
    "step_5 = step_4.encode('ascii', 'replace').decode('ascii')\n",
    "print(step_5)\n",
    "\n",
    "# menghilangkan white space lebih\n",
    "step_6 = ' '.join(re.sub(\"([@#][A-Za-z0-9]+)|(\\w+:\\/\\/\\S+)\",\" \", step_5).split())\n",
    "print(step_6)\n",
    "\n",
    "hilangkan_tanda_baca = string.punctuation\n",
    "\n",
    "# menghilangkan semua tanda baca\n",
    "step_7 = step_6.translate(str.maketrans(' ', ' ', hilangkan_tanda_baca))\n",
    "print(step_7)\n",
    "\n",
    "# Menghilangkan satu karakter\n",
    "filtering_ulasan = re.sub(r\"\\b[a-zA-Z]\\b\", \"\", step_7)\n",
    "print(filtering_ulasan)\n"
   ]
  },
  {
   "cell_type": "markdown",
   "metadata": {},
   "source": [
    "**Word Normalization**"
   ]
  },
  {
   "cell_type": "code",
   "execution_count": 96,
   "metadata": {},
   "outputs": [
    {
     "name": "stdout",
     "output_type": "stream",
     "text": [
      "['bukalapak', 'bagus', 'barang', 'sesuai', 'pengiriman', 'cepat', 'tingkatkan', 'min', 'biar', 'makin', 'semangat', 'belanja', 'bukalapak', 'nya', 'wkwkwk']\n"
     ]
    },
    {
     "data": {
      "text/plain": [
       "'bukalapak bagus barang sesuai pengiriman cepat tingkatkan admin biar makin semangat belanja bukalapak nya hahaha'"
      ]
     },
     "execution_count": 96,
     "metadata": {},
     "output_type": "execute_result"
    }
   ],
   "source": [
    "import pandas as pd\n",
    "\n",
    "kamus_informal_to_formal = pd.read_csv('kamus_normalization.tsv',sep='\\t')\n",
    "kamus_informal_to_formal = kamus_informal_to_formal.iloc[:,1:3]\n",
    "\n",
    "\n",
    "kamus_normalisasi = {}\n",
    "\n",
    "# penambahan yang tidak ada di kamus sebelumnya, wahid -> satu\n",
    "kamus_normalisasi = {\"x\": \"kali\", \"now\": \"sekarang\", \"min\": \"admin\"}\n",
    "\n",
    "for index, row in kamus_informal_to_formal.iterrows():\n",
    "    if row[0] not in kamus_normalisasi:\n",
    "        kamus_normalisasi[row[0]] = row[1]\n",
    "\n",
    "\n",
    "kamus_normalisasi\n",
    "\n",
    "# convert string to list of words\n",
    "ulasan_akhir = filtering_ulasan.split()\n",
    "print(ulasan_akhir)\n",
    "\n",
    "setelah_wordnorm = [kamus_normalisasi[word] if word in kamus_normalisasi else word for word in ulasan_akhir]\n",
    "\n",
    "akhir_word_norm = ' '.join(setelah_wordnorm)\n",
    "\n",
    "akhir_word_norm\n",
    "\n",
    "# def normalisasi_kata(text):\n",
    "#     return [kamus_normalisasi[word] if word in kamus_normalisasi else word for word in text]\n",
    "# dataset['Review'] = dataset['Review'].apply(lambda text: normalisasi_kata(text))\n",
    "\n",
    "# kalimat_word_norm\n"
   ]
  },
  {
   "cell_type": "markdown",
   "metadata": {},
   "source": [
    "**Convert Negation**"
   ]
  },
  {
   "cell_type": "code",
   "execution_count": 97,
   "metadata": {},
   "outputs": [
    {
     "data": {
      "text/plain": [
       "'bukalapak bagus barang sesuai pengiriman cepat tingkatkan admin biar makin semangat belanja bukalapak nya hahaha'"
      ]
     },
     "execution_count": 97,
     "metadata": {},
     "output_type": "execute_result"
    }
   ],
   "source": [
    "# kata tak\n",
    "def convert_negation(teks):\n",
    "    convert_tidak = teks.replace(\"tidak \", \"tidak_\")\n",
    "    convert_belum = convert_tidak.replace(\"belum \", \"belum_\")\n",
    "    convert_jangan = convert_belum.replace(\"jangan \", \"jangan_\")\n",
    "    convert_tak = convert_jangan.replace(\"tak \", \"tak_\")\n",
    "    last_convert = convert_jangan.replace(\"bukan \", \"bukan_\")\n",
    "\n",
    "    return last_convert\n",
    "\n",
    "hasil_convert = convert_negation(akhir_word_norm)\n",
    "hasil_convert"
   ]
  },
  {
   "cell_type": "markdown",
   "metadata": {},
   "source": [
    "**Tokenization**"
   ]
  },
  {
   "cell_type": "code",
   "execution_count": 98,
   "metadata": {},
   "outputs": [
    {
     "name": "stdout",
     "output_type": "stream",
     "text": [
      "['bukalapak', 'bagus', 'barang', 'sesuai', 'pengiriman', 'cepat', 'tingkatkan', 'admin', 'biar', 'makin', 'semangat', 'belanja', 'bukalapak', 'nya', 'hahaha']\n"
     ]
    }
   ],
   "source": [
    "from nltk.tokenize import word_tokenize\n",
    "tokenisasi = word_tokenize(hasil_convert)\n",
    "print(tokenisasi)"
   ]
  },
  {
   "cell_type": "markdown",
   "metadata": {},
   "source": [
    "**Stopword Removal**"
   ]
  },
  {
   "cell_type": "code",
   "execution_count": 99,
   "metadata": {},
   "outputs": [
    {
     "name": "stdout",
     "output_type": "stream",
     "text": [
      "['bukalapak', 'bagus', 'barang', 'sesuai', 'pengiriman', 'cepat', 'tingkatkan', 'admin', 'biar', 'semangat', 'belanja', 'bukalapak', 'hahaha']\n"
     ]
    }
   ],
   "source": [
    "from nltk.corpus import stopwords\n",
    "STOPWORDS = stopwords.words('indonesian')\n",
    "# print(STOPWORDS)\n",
    "STOPWORDS.extend(['kali', 'nya'])\n",
    "# STOPWORDS.extend(['amp','hahaha','ya','bnr','bener','iya','dikit','sih','nya', 'yg', 'dll','gara', 'dan lain', 'dan lain-lain', 'oh','y','g','yes', 'yang','gak','bgt','ku','buat','karena','karna','ga','udah','udh','pas','kalau','kalo','eh','deh','coba','oke','a','aa','aaa','aaaa','aaaaa','huhuhu','hihihi','hahaha','hehehe','he','heh','hehe','si','ah','aja','ni','ini','xixi','da'])\n",
    "\n",
    "stopword_list = set(STOPWORDS)\n",
    "\n",
    "# Kata yang tidak seharusnya dibuang : membuat, dapat\n",
    "# stopword_list.remove(\"dapat\")\n",
    "\n",
    "\n",
    "list_baru = []\n",
    "for word in tokenisasi:\n",
    "    if word not in stopword_list:\n",
    "        list_baru.append(word)\n",
    "\n",
    "print(list_baru)\n",
    "# def stopword_removal(text):\n",
    "#     return [word for word in text if word not in stopword_list]\n",
    "\n",
    "# dataset['Review'] = dataset['Review'].apply(lambda text: stopword_removal(text))\n",
    "# dataset"
   ]
  },
  {
   "cell_type": "code",
   "execution_count": 40,
   "metadata": {},
   "outputs": [
    {
     "name": "stdout",
     "output_type": "stream",
     "text": [
      "['bagus', 'banget', 'depan', 'tolong', 'tingkat', 'tampil', 'ui', 'nya', 'nyaman', 'belanja', 'tingkat']\n"
     ]
    }
   ],
   "source": [
    "# Stemming\n",
    "# from Sastrawi.Stemmer.StemmerFactory import StemmerFactory\n",
    "# factory = StemmerFactory()\n",
    "# stemmer = factory.create_stemmer()\n",
    "\n",
    "# kalimat = \"'bagus', 'banget', 'kedepannya', 'tolong', 'tingkatkan', 'tampilan', 'ui', 'nya', 'kenyamanan', 'belanja', 'meningkat'\"\n",
    "# hasil = stemmer.stem(kalimat)\n",
    "# word_tokens = word_tokenize(hasil)\n",
    "# print(word_tokens)\n",
    "\n",
    "# ouput\n",
    "# andi kerap laku transaksi rutin cara daring atau online turut andi belanja online lebih praktis murah"
   ]
  },
  {
   "cell_type": "code",
   "execution_count": 105,
   "metadata": {},
   "outputs": [
    {
     "data": {
      "text/html": [
       "<style>#sk-container-id-2 {color: black;background-color: white;}#sk-container-id-2 pre{padding: 0;}#sk-container-id-2 div.sk-toggleable {background-color: white;}#sk-container-id-2 label.sk-toggleable__label {cursor: pointer;display: block;width: 100%;margin-bottom: 0;padding: 0.3em;box-sizing: border-box;text-align: center;}#sk-container-id-2 label.sk-toggleable__label-arrow:before {content: \"▸\";float: left;margin-right: 0.25em;color: #696969;}#sk-container-id-2 label.sk-toggleable__label-arrow:hover:before {color: black;}#sk-container-id-2 div.sk-estimator:hover label.sk-toggleable__label-arrow:before {color: black;}#sk-container-id-2 div.sk-toggleable__content {max-height: 0;max-width: 0;overflow: hidden;text-align: left;background-color: #f0f8ff;}#sk-container-id-2 div.sk-toggleable__content pre {margin: 0.2em;color: black;border-radius: 0.25em;background-color: #f0f8ff;}#sk-container-id-2 input.sk-toggleable__control:checked~div.sk-toggleable__content {max-height: 200px;max-width: 100%;overflow: auto;}#sk-container-id-2 input.sk-toggleable__control:checked~label.sk-toggleable__label-arrow:before {content: \"▾\";}#sk-container-id-2 div.sk-estimator input.sk-toggleable__control:checked~label.sk-toggleable__label {background-color: #d4ebff;}#sk-container-id-2 div.sk-label input.sk-toggleable__control:checked~label.sk-toggleable__label {background-color: #d4ebff;}#sk-container-id-2 input.sk-hidden--visually {border: 0;clip: rect(1px 1px 1px 1px);clip: rect(1px, 1px, 1px, 1px);height: 1px;margin: -1px;overflow: hidden;padding: 0;position: absolute;width: 1px;}#sk-container-id-2 div.sk-estimator {font-family: monospace;background-color: #f0f8ff;border: 1px dotted black;border-radius: 0.25em;box-sizing: border-box;margin-bottom: 0.5em;}#sk-container-id-2 div.sk-estimator:hover {background-color: #d4ebff;}#sk-container-id-2 div.sk-parallel-item::after {content: \"\";width: 100%;border-bottom: 1px solid gray;flex-grow: 1;}#sk-container-id-2 div.sk-label:hover label.sk-toggleable__label {background-color: #d4ebff;}#sk-container-id-2 div.sk-serial::before {content: \"\";position: absolute;border-left: 1px solid gray;box-sizing: border-box;top: 0;bottom: 0;left: 50%;z-index: 0;}#sk-container-id-2 div.sk-serial {display: flex;flex-direction: column;align-items: center;background-color: white;padding-right: 0.2em;padding-left: 0.2em;position: relative;}#sk-container-id-2 div.sk-item {position: relative;z-index: 1;}#sk-container-id-2 div.sk-parallel {display: flex;align-items: stretch;justify-content: center;background-color: white;position: relative;}#sk-container-id-2 div.sk-item::before, #sk-container-id-2 div.sk-parallel-item::before {content: \"\";position: absolute;border-left: 1px solid gray;box-sizing: border-box;top: 0;bottom: 0;left: 50%;z-index: -1;}#sk-container-id-2 div.sk-parallel-item {display: flex;flex-direction: column;z-index: 1;position: relative;background-color: white;}#sk-container-id-2 div.sk-parallel-item:first-child::after {align-self: flex-end;width: 50%;}#sk-container-id-2 div.sk-parallel-item:last-child::after {align-self: flex-start;width: 50%;}#sk-container-id-2 div.sk-parallel-item:only-child::after {width: 0;}#sk-container-id-2 div.sk-dashed-wrapped {border: 1px dashed gray;margin: 0 0.4em 0.5em 0.4em;box-sizing: border-box;padding-bottom: 0.4em;background-color: white;}#sk-container-id-2 div.sk-label label {font-family: monospace;font-weight: bold;display: inline-block;line-height: 1.2em;}#sk-container-id-2 div.sk-label-container {text-align: center;}#sk-container-id-2 div.sk-container {/* jupyter's `normalize.less` sets `[hidden] { display: none; }` but bootstrap.min.css set `[hidden] { display: none !important; }` so we also need the `!important` here to be able to override the default hidden behavior on the sphinx rendered scikit-learn.org. See: https://github.com/scikit-learn/scikit-learn/issues/21755 */display: inline-block !important;position: relative;}#sk-container-id-2 div.sk-text-repr-fallback {display: none;}</style><div id=\"sk-container-id-2\" class=\"sk-top-container\"><div class=\"sk-text-repr-fallback\"><pre>CountVectorizer()</pre><b>In a Jupyter environment, please rerun this cell to show the HTML representation or trust the notebook. <br />On GitHub, the HTML representation is unable to render, please try loading this page with nbviewer.org.</b></div><div class=\"sk-container\" hidden><div class=\"sk-item\"><div class=\"sk-estimator sk-toggleable\"><input class=\"sk-toggleable__control sk-hidden--visually\" id=\"sk-estimator-id-2\" type=\"checkbox\" checked><label for=\"sk-estimator-id-2\" class=\"sk-toggleable__label sk-toggleable__label-arrow\">CountVectorizer</label><div class=\"sk-toggleable__content\"><pre>CountVectorizer()</pre></div></div></div></div></div>"
      ],
      "text/plain": [
       "CountVectorizer()"
      ]
     },
     "execution_count": 105,
     "metadata": {},
     "output_type": "execute_result"
    }
   ],
   "source": [
    "from sklearn.feature_extraction.text import CountVectorizer\n",
    "\n",
    "vectorizer = CountVectorizer()\n",
    "vectorizer.fit(list_baru)"
   ]
  },
  {
   "cell_type": "code",
   "execution_count": 110,
   "metadata": {},
   "outputs": [
    {
     "name": "stdout",
     "output_type": "stream",
     "text": [
      "13\n",
      "[[1], [2], [3], [4], [5], [6], [7], [8], [9], [10], [11], [1], [12]]\n"
     ]
    }
   ],
   "source": [
    "from keras.preprocessing.text import Tokenizer\n",
    "\n",
    "tokenizer = Tokenizer(num_words=5000)\n",
    "tokenizer.fit_on_texts(list_baru)\n",
    "\n",
    "training_korpus = tokenizer.texts_to_sequences(list_baru)\n",
    "\n",
    "vocab_size = len(tokenizer.word_index) + 1\n",
    "print(vocab_size)\n",
    "\n",
    "print(training_korpus)"
   ]
  },
  {
   "cell_type": "markdown",
   "metadata": {},
   "source": [
    "**Stemming**"
   ]
  }
 ],
 "metadata": {
  "kernelspec": {
   "display_name": "Python 3.10.8 64-bit",
   "language": "python",
   "name": "python3"
  },
  "language_info": {
   "codemirror_mode": {
    "name": "ipython",
    "version": 3
   },
   "file_extension": ".py",
   "mimetype": "text/x-python",
   "name": "python",
   "nbconvert_exporter": "python",
   "pygments_lexer": "ipython3",
   "version": "3.10.8"
  },
  "orig_nbformat": 4,
  "vscode": {
   "interpreter": {
    "hash": "5fb9e22d6cb474a5f05f245ce1471996f9d1b79ec2fc1a71ea989e0e63213d9f"
   }
  }
 },
 "nbformat": 4,
 "nbformat_minor": 2
}
