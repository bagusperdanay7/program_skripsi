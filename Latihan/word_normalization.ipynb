{
 "cells": [
  {
   "cell_type": "code",
   "execution_count": 20,
   "metadata": {},
   "outputs": [
    {
     "name": "stdout",
     "output_type": "stream",
     "text": [
      "['senang', 'belanja', 'online', 'belanja', 'tidak', 'tertipu', 'sellernya', 'jujur', 'ramah', 'layanan', 'pelanggan', 'nya', 'sopan', 'kendala', 'beda', 'toko', 'online', 'shop', 'sebelah', 'kali', 'ketipu', 'dionline', 'shop', 'sebelah', 'online', 'shope', 'nyaman', 'belanja', 'apapun', 'bikin', 'kesal', 'serbu', 'seru', 'barang']\n"
     ]
    }
   ],
   "source": [
    "from nltk.corpus import stopwords\n",
    "STOPWORDS = stopwords.words('indonesian')\n",
    "# print(STOPWORDS)\n",
    "# STOPWORDS.extend(['amp','hahaha','ya','bnr','bener','iya','dikit','sih','nya', 'yg', 'dll','gara', 'dan lain', 'dan lain-lain', 'oh','y','g','yes', 'yang','gak','bgt','ku','buat','karena','karna','ga','udah','udh','pas','kalau','kalo','eh','deh','coba','oke','a','aa','aaa','aaaa','aaaaa','huhuhu','hihihi','hahaha','hehehe','he','heh','hehe','si','ah','aja','ni','ini','xixi','da'])\n",
    "\n",
    "kalimat = ['saya', 'paling', 'senang', 'belanja', 'online', 'disini', 'selama', 'tahun', 'belanja', 'disini', 'tidak', 'pernah', 'tertipu', 'sellernya', 'jujur', 'ramah', 'serta', 'layanan', 'pelanggan', 'nya', 'juga', 'sopan', 'kalau', 'kita', 'ada', 'kendala', 'beda', 'sama', 'toko', 'online', 'shop', 'sebelah', 'saya', 'kali', 'ketipu', 'dionline', 'shop', 'sebelah', 'online', 'shope', 'disini', 'saya', 'nyaman', 'belanja', 'apapun', 'itu', 'cuma', 'yang', 'bikin', 'kesal', 'tentang', 'serbu', 'seru', 'belum', 'pernah', 'dapat', 'barang']\n",
    "stopword_list = set(STOPWORDS)\n",
    "\n",
    "stopword_list.remove(\"tidak\")\n",
    "\n",
    "\n",
    "list_baru = []\n",
    "for word in kalimat:\n",
    "    if word not in stopword_list:\n",
    "        list_baru.append(word)\n",
    "\n",
    "print(list_baru)\n",
    "# def stopword_removal(text):\n",
    "#     return [word for word in text if word not in stopword_list]\n",
    "\n",
    "# dataset['Review'] = dataset['Review'].apply(lambda text: stopword_removal(text))\n",
    "# dataset"
   ]
  },
  {
   "cell_type": "code",
   "execution_count": 22,
   "metadata": {},
   "outputs": [
    {
     "name": "stdout",
     "output_type": "stream",
     "text": [
      "senang belanja online belanja tipu sellernya jujur ramah layan langgan nya sopan kendala beda toko online shop belah kali tipu dionline shop belah online shope nyaman belanja apa bikin kesal serbu seru barang\n"
     ]
    }
   ],
   "source": [
    "# Stemming\n",
    "from Sastrawi.Stemmer.StemmerFactory import StemmerFactory\n",
    "factory = StemmerFactory()\n",
    "stemmer = factory.create_stemmer()\n",
    " \n",
    "kalimat = \"senang belanja online belanja tertipu sellernya jujur ramah layanan pelanggan nya sopan kendala beda toko online shop sebelah kali ketipu dionline shop sebelah online shope nyaman belanja apapun bikin kesal serbu seru barang\"\n",
    "hasil = stemmer.stem(kalimat)\n",
    "print(hasil)\n",
    "# ouput\n",
    "# andi kerap laku transaksi rutin cara daring atau online turut andi belanja online lebih praktis murah"
   ]
  }
 ],
 "metadata": {
  "kernelspec": {
   "display_name": "Python 3.10.8 64-bit",
   "language": "python",
   "name": "python3"
  },
  "language_info": {
   "codemirror_mode": {
    "name": "ipython",
    "version": 3
   },
   "file_extension": ".py",
   "mimetype": "text/x-python",
   "name": "python",
   "nbconvert_exporter": "python",
   "pygments_lexer": "ipython3",
   "version": "3.10.8"
  },
  "orig_nbformat": 4,
  "vscode": {
   "interpreter": {
    "hash": "5fb9e22d6cb474a5f05f245ce1471996f9d1b79ec2fc1a71ea989e0e63213d9f"
   }
  }
 },
 "nbformat": 4,
 "nbformat_minor": 2
}
