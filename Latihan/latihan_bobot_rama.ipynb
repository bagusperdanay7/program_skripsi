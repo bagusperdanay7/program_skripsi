{
 "cells": [
  {
   "cell_type": "code",
   "execution_count": 7,
   "metadata": {},
   "outputs": [
    {
     "name": "stdout",
     "output_type": "stream",
     "text": [
      "[[2.03062516]\n",
      " [1.2500001 ]\n",
      " [1.2500001 ]]\n",
      "[[0.67024304]\n",
      " [0.292134  ]\n",
      " [0.292134  ]]\n",
      "[[2.7008682]\n",
      " [1.5421341]\n",
      " [1.5421341]]\n"
     ]
    }
   ],
   "source": [
    "import numpy as np\n",
    "a = 1.2500001\n",
    "b = np.array([[1.6245],\n",
    "[1],\n",
    "[1]])\n",
    "\n",
    "\n",
    "c = 0.292134 \n",
    "d = np.array([[2.2943],\n",
    "[1],\n",
    "[1]])\n",
    "\n",
    "\n",
    "\n",
    "print(np.dot(a,b))\n",
    "print(np.dot(c,d))\n",
    "\n",
    "print(np.dot(a,b) + np.dot(c,d))\n"
   ]
  },
  {
   "cell_type": "code",
   "execution_count": null,
   "metadata": {},
   "outputs": [],
   "source": []
  }
 ],
 "metadata": {
  "kernelspec": {
   "display_name": "Python 3",
   "language": "python",
   "name": "python3"
  },
  "language_info": {
   "codemirror_mode": {
    "name": "ipython",
    "version": 3
   },
   "file_extension": ".py",
   "mimetype": "text/x-python",
   "name": "python",
   "nbconvert_exporter": "python",
   "pygments_lexer": "ipython3",
   "version": "3.10.8"
  },
  "orig_nbformat": 4,
  "vscode": {
   "interpreter": {
    "hash": "5fb9e22d6cb474a5f05f245ce1471996f9d1b79ec2fc1a71ea989e0e63213d9f"
   }
  }
 },
 "nbformat": 4,
 "nbformat_minor": 2
}
