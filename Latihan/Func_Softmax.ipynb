{
 "cells": [
  {
   "cell_type": "markdown",
   "metadata": {},
   "source": [
    "### **Softmax Function**"
   ]
  },
  {
   "cell_type": "markdown",
   "metadata": {},
   "source": [
    "\n",
    "![Softmax Function](Image/softmax_func.png)"
   ]
  },
  {
   "cell_type": "markdown",
   "metadata": {
    "tags": []
   },
   "source": [
    "Misalnya Untuk nilai $Zi$:\n",
    "\n",
    "$\n",
    "K = 10 , i = 10\n",
    "$ \n",
    "\n",
    "Yaitu Nilai Jadi\n",
    "\n",
    "```python\n",
    "output_layer = [2.3, 4.4, 3.2, 5.1, 2.7, 0.9, 1.3, 3.1, 6.6, 7.5]\n",
    "```\n"
   ]
  },
  {
   "cell_type": "code",
   "execution_count": 1,
   "metadata": {},
   "outputs": [],
   "source": [
    "# Menghitung softmax function\n",
    "import numpy as np\n",
    "output_layer = np.array([2.3, 4.4, 3.2, 5.1, 2.7, 0.9, 1.3, 3.1, 6.6, 7.5])"
   ]
  },
  {
   "cell_type": "code",
   "execution_count": 3,
   "metadata": {},
   "outputs": [
    {
     "data": {
      "text/plain": [
       "array([   9.97418245,   81.45086866,   24.5325302 ,  164.0219073 ,\n",
       "         14.87973172,    2.45960311,    3.66929667,   22.19795128,\n",
       "        735.09518924, 1808.04241446])"
      ]
     },
     "execution_count": 3,
     "metadata": {},
     "output_type": "execute_result"
    }
   ],
   "source": [
    "eksponensialkan = np.exp(output_layer)\n",
    "eksponensialkan"
   ]
  },
  {
   "cell_type": "code",
   "execution_count": 5,
   "metadata": {},
   "outputs": [
    {
     "data": {
      "text/plain": [
       "array([0.00347978, 0.02841649, 0.00855888, 0.05722379, 0.00519123,\n",
       "       0.0008581 , 0.00128014, 0.0077444 , 0.25645924, 0.63078794])"
      ]
     },
     "execution_count": 5,
     "metadata": {},
     "output_type": "execute_result"
    }
   ],
   "source": [
    "probabilitas_softmax = eksponensialkan / np.sum(eksponensialkan)\n",
    "probabilitas_softmax"
   ]
  },
  {
   "cell_type": "code",
   "execution_count": 6,
   "metadata": {},
   "outputs": [
    {
     "data": {
      "text/plain": [
       "1.0"
      ]
     },
     "execution_count": 6,
     "metadata": {},
     "output_type": "execute_result"
    }
   ],
   "source": [
    "# Maka jika probabilitas masing-masing dijumlahkan hasilnya akan bernilai satu\n",
    "probabilitas_softmax.sum()"
   ]
  }
 ],
 "metadata": {
  "kernelspec": {
   "display_name": "Python 3.10.8 64-bit",
   "language": "python",
   "name": "python3"
  },
  "language_info": {
   "codemirror_mode": {
    "name": "ipython",
    "version": 3
   },
   "file_extension": ".py",
   "mimetype": "text/x-python",
   "name": "python",
   "nbconvert_exporter": "python",
   "pygments_lexer": "ipython3",
   "version": "3.10.8"
  },
  "orig_nbformat": 4,
  "vscode": {
   "interpreter": {
    "hash": "5fb9e22d6cb474a5f05f245ce1471996f9d1b79ec2fc1a71ea989e0e63213d9f"
   }
  }
 },
 "nbformat": 4,
 "nbformat_minor": 2
}
