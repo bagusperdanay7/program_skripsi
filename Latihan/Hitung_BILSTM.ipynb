{
 "cells": [
  {
   "cell_type": "code",
   "execution_count": 51,
   "metadata": {},
   "outputs": [
    {
     "name": "stdout",
     "output_type": "stream",
     "text": [
      "-0.09226408453054369\n",
      "0.09773935644102011\n",
      "-0.11490133224654536\n",
      "-0.05543787997817162\n",
      "-0.09028449794670225\n",
      "0.08763403916897244\n"
     ]
    }
   ],
   "source": [
    "# Hitung bobot\n",
    "#Importing python module random to generate random numbers\n",
    "\n",
    "import random as rnd\n",
    "\n",
    "\n",
    "\n",
    "#generating random numbers between any given range\n",
    "\n",
    "list_bobot = []\n",
    "list_bobot2 = []\n",
    "\n",
    "for i in range(3):\n",
    "\n",
    "    rnd_num = rnd.uniform(-0.121, 0.121)\n",
    "\n",
    "    list_bobot.append(rnd_num)\n",
    "    print(rnd_num)\n",
    "\n",
    "for j in range(3):\n",
    "\n",
    "    rnd_num = rnd.uniform(-0.121, 0.121)\n",
    "\n",
    "    list_bobot2.append(rnd_num)\n",
    "    print(rnd_num)\n",
    "\n",
    "import pandas as pd\n",
    "df_bobot =  pd.DataFrame(data=[list_bobot, list_bobot2])"
   ]
  },
  {
   "cell_type": "code",
   "execution_count": 52,
   "metadata": {},
   "outputs": [
    {
     "data": {
      "text/html": [
       "<div>\n",
       "<style scoped>\n",
       "    .dataframe tbody tr th:only-of-type {\n",
       "        vertical-align: middle;\n",
       "    }\n",
       "\n",
       "    .dataframe tbody tr th {\n",
       "        vertical-align: top;\n",
       "    }\n",
       "\n",
       "    .dataframe thead th {\n",
       "        text-align: right;\n",
       "    }\n",
       "</style>\n",
       "<table border=\"1\" class=\"dataframe\">\n",
       "  <thead>\n",
       "    <tr style=\"text-align: right;\">\n",
       "      <th></th>\n",
       "      <th>0</th>\n",
       "      <th>1</th>\n",
       "      <th>2</th>\n",
       "    </tr>\n",
       "  </thead>\n",
       "  <tbody>\n",
       "    <tr>\n",
       "      <th>0</th>\n",
       "      <td>-0.092264</td>\n",
       "      <td>0.097739</td>\n",
       "      <td>-0.114901</td>\n",
       "    </tr>\n",
       "    <tr>\n",
       "      <th>1</th>\n",
       "      <td>-0.055438</td>\n",
       "      <td>-0.090284</td>\n",
       "      <td>0.087634</td>\n",
       "    </tr>\n",
       "  </tbody>\n",
       "</table>\n",
       "</div>"
      ],
      "text/plain": [
       "          0         1         2\n",
       "0 -0.092264  0.097739 -0.114901\n",
       "1 -0.055438 -0.090284  0.087634"
      ]
     },
     "execution_count": 52,
     "metadata": {},
     "output_type": "execute_result"
    }
   ],
   "source": [
    "df_bobot"
   ]
  },
  {
   "cell_type": "code",
   "execution_count": 53,
   "metadata": {},
   "outputs": [],
   "source": [
    "df_bobot.to_excel(\"bobot_bilstm.xlsx\")\n"
   ]
  },
  {
   "cell_type": "code",
   "execution_count": null,
   "metadata": {},
   "outputs": [
    {
     "data": {
      "text/plain": [
       "array([[0.17225484, 0.18184447, 0.38415065, 0.28186721, 0.46178223,\n",
       "        0.5872402 , 0.36796105, 0.61991083, 0.03970724, 0.93274434,\n",
       "        0.38989888, 0.29401343, 0.0162021 , 0.29897613, 0.88270005,\n",
       "        0.97348586, 0.67302833, 0.14196048, 0.09017508, 0.17522225,\n",
       "        0.06844013, 0.73795272, 0.54706971, 0.76286981, 0.03505901,\n",
       "        0.54450108, 0.74217398, 0.13894918, 0.43213462, 0.45333265,\n",
       "        0.99789035, 0.59606034, 0.19781396, 0.90205597, 0.59035149,\n",
       "        0.952229  , 0.21753668, 0.02021829, 0.66150554, 0.48096677,\n",
       "        0.51605337, 0.28124591, 0.84422412, 0.40457915, 0.94878922,\n",
       "        0.46275328, 0.20784509, 0.35898014, 0.65175116, 0.53275113,\n",
       "        0.66277375, 0.16464185, 0.59024762, 0.90851458, 0.36575185,\n",
       "        0.29637974, 0.89618659, 0.11030099, 0.56918353, 0.10307172,\n",
       "        0.47923717, 0.06406014, 0.77345907, 0.12673839, 0.37820854,\n",
       "        0.4669503 , 0.0260524 , 0.56150107],\n",
       "       [0.49943556, 0.18728344, 0.8657099 , 0.47401908, 0.78326689,\n",
       "        0.36716805, 0.14487624, 0.96372405, 0.92969824, 0.98080418,\n",
       "        0.05274885, 0.77128214, 0.98397776, 0.70883482, 0.73455526,\n",
       "        0.42459655, 0.51505813, 0.82419419, 0.62214766, 0.6574879 ,\n",
       "        0.38104676, 0.588916  , 0.64190461, 0.46699074, 0.45870296,\n",
       "        0.62729798, 0.73154566, 0.08229209, 0.26052355, 0.89430164,\n",
       "        0.90768527, 0.28430347, 0.33826296, 0.97731715, 0.81903395,\n",
       "        0.09010235, 0.97995122, 0.27732411, 0.30070093, 0.44438075,\n",
       "        0.64876878, 0.04463936, 0.6119871 , 0.99043108, 0.5104736 ,\n",
       "        0.34582815, 0.27006886, 0.17472711, 0.19561256, 0.66298443,\n",
       "        0.77059168, 0.52736629, 0.78328814, 0.18701837, 0.43698972,\n",
       "        0.79108006, 0.50484368, 0.4080213 , 0.33478476, 0.26439181,\n",
       "        0.10139219, 0.57204117, 0.48851944, 0.12519939, 0.29326535,\n",
       "        0.83867457, 0.31318708, 0.4712125 ]])"
      ]
     },
     "execution_count": 5,
     "metadata": {},
     "output_type": "execute_result"
    }
   ],
   "source": [
    "import numpy as np\n",
    "np.random.rand(2,68)"
   ]
  },
  {
   "cell_type": "code",
   "execution_count": null,
   "metadata": {},
   "outputs": [],
   "source": []
  }
 ],
 "metadata": {
  "kernelspec": {
   "display_name": "Python 3",
   "language": "python",
   "name": "python3"
  },
  "language_info": {
   "codemirror_mode": {
    "name": "ipython",
    "version": 3
   },
   "file_extension": ".py",
   "mimetype": "text/x-python",
   "name": "python",
   "nbconvert_exporter": "python",
   "pygments_lexer": "ipython3",
   "version": "3.10.8"
  },
  "orig_nbformat": 4,
  "vscode": {
   "interpreter": {
    "hash": "5fb9e22d6cb474a5f05f245ce1471996f9d1b79ec2fc1a71ea989e0e63213d9f"
   }
  }
 },
 "nbformat": 4,
 "nbformat_minor": 2
}
