{
 "cells": [
  {
   "cell_type": "code",
   "execution_count": 6,
   "metadata": {},
   "outputs": [
    {
     "name": "stdout",
     "output_type": "stream",
     "text": [
      "   ini adalah contoh html    \n"
     ]
    }
   ],
   "source": [
    "import re\n",
    "# Rekomendasi hanya compile sekali saja\n",
    "CLEANR = re.compile('<.*?>') \n",
    "\n",
    "contoh_teks = '<br> </br> <br/> ini adalah contoh html <html> <b> </html> <bold>'\n",
    "\n",
    "def clean_html(html_teks):\n",
    "    html_clean = re.sub(CLEANR, '', html_teks)\n",
    "    return html_clean\n",
    "\n",
    "print(clean_html(contoh_teks))"
   ]
  },
  {
   "cell_type": "code",
   "execution_count": null,
   "metadata": {},
   "outputs": [],
   "source": []
  }
 ],
 "metadata": {
  "kernelspec": {
   "display_name": "Python 3",
   "language": "python",
   "name": "python3"
  },
  "language_info": {
   "codemirror_mode": {
    "name": "ipython",
    "version": 3
   },
   "file_extension": ".py",
   "mimetype": "text/x-python",
   "name": "python",
   "nbconvert_exporter": "python",
   "pygments_lexer": "ipython3",
   "version": "3.10.8 (tags/v3.10.8:aaaf517, Oct 11 2022, 16:50:30) [MSC v.1933 64 bit (AMD64)]"
  },
  "orig_nbformat": 4,
  "vscode": {
   "interpreter": {
    "hash": "5fb9e22d6cb474a5f05f245ce1471996f9d1b79ec2fc1a71ea989e0e63213d9f"
   }
  }
 },
 "nbformat": 4,
 "nbformat_minor": 2
}
