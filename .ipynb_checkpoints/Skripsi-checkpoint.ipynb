{
 "cells": [
  {
   "cell_type": "code",
   "execution_count": 80,
   "metadata": {},
   "outputs": [
    {
     "data": {
      "text/html": [
       "<div>\n",
       "<style scoped>\n",
       "    .dataframe tbody tr th:only-of-type {\n",
       "        vertical-align: middle;\n",
       "    }\n",
       "\n",
       "    .dataframe tbody tr th {\n",
       "        vertical-align: top;\n",
       "    }\n",
       "\n",
       "    .dataframe thead th {\n",
       "        text-align: right;\n",
       "    }\n",
       "</style>\n",
       "<table border=\"1\" class=\"dataframe\">\n",
       "  <thead>\n",
       "    <tr style=\"text-align: right;\">\n",
       "      <th></th>\n",
       "      <th>0</th>\n",
       "      <th>1</th>\n",
       "      <th>2</th>\n",
       "    </tr>\n",
       "  </thead>\n",
       "  <tbody>\n",
       "    <tr>\n",
       "      <th>0</th>\n",
       "      <td>Kusyati Nisa</td>\n",
       "      <td>5</td>\n",
       "      <td>Mantaf skali mudah juga buat ikut pelatihan pr...</td>\n",
       "    </tr>\n",
       "    <tr>\n",
       "      <th>1</th>\n",
       "      <td>Nurul Latifah</td>\n",
       "      <td>5</td>\n",
       "      <td>keren buat beli kartu prakerjaa</td>\n",
       "    </tr>\n",
       "    <tr>\n",
       "      <th>2</th>\n",
       "      <td>Lukman Hadi</td>\n",
       "      <td>1</td>\n",
       "      <td>Lapak saya dibekukan, sudah komplain tidak ada...</td>\n",
       "    </tr>\n",
       "    <tr>\n",
       "      <th>3</th>\n",
       "      <td>Felisona Hulu</td>\n",
       "      <td>1</td>\n",
       "      <td>Benar2 mengecewakan.Respon sangat lama.pokok n...</td>\n",
       "    </tr>\n",
       "    <tr>\n",
       "      <th>4</th>\n",
       "      <td>Don faizal</td>\n",
       "      <td>5</td>\n",
       "      <td>Ini adalah salah satu tempat terbaik untuk bel...</td>\n",
       "    </tr>\n",
       "    <tr>\n",
       "      <th>...</th>\n",
       "      <td>...</td>\n",
       "      <td>...</td>\n",
       "      <td>...</td>\n",
       "    </tr>\n",
       "    <tr>\n",
       "      <th>2995</th>\n",
       "      <td>Wa hyu</td>\n",
       "      <td>5</td>\n",
       "      <td>Kenapa selalu muncul iklan, padahal aplikasi s...</td>\n",
       "    </tr>\n",
       "    <tr>\n",
       "      <th>2996</th>\n",
       "      <td>Pengguna Google</td>\n",
       "      <td>3</td>\n",
       "      <td>Tolong dong.. sejak update memori penyimpanan ...</td>\n",
       "    </tr>\n",
       "    <tr>\n",
       "      <th>2997</th>\n",
       "      <td>Pengguna Google</td>\n",
       "      <td>3</td>\n",
       "      <td>Saya senang banget berbelanja di bukalapak, se...</td>\n",
       "    </tr>\n",
       "    <tr>\n",
       "      <th>2998</th>\n",
       "      <td>Pengguna Google</td>\n",
       "      <td>1</td>\n",
       "      <td>Aplikasi tidak berjalan.sudah di re instal tet...</td>\n",
       "    </tr>\n",
       "    <tr>\n",
       "      <th>2999</th>\n",
       "      <td>Pengguna Google</td>\n",
       "      <td>2</td>\n",
       "      <td>Dana Hasil Penjualan Tidak bisa otomatis masuk...</td>\n",
       "    </tr>\n",
       "  </tbody>\n",
       "</table>\n",
       "<p>3000 rows × 3 columns</p>\n",
       "</div>"
      ],
      "text/plain": [
       "                    0  1                                                  2\n",
       "0        Kusyati Nisa  5  Mantaf skali mudah juga buat ikut pelatihan pr...\n",
       "1       Nurul Latifah  5                    keren buat beli kartu prakerjaa\n",
       "2         Lukman Hadi  1  Lapak saya dibekukan, sudah komplain tidak ada...\n",
       "3       Felisona Hulu  1  Benar2 mengecewakan.Respon sangat lama.pokok n...\n",
       "4          Don faizal  5  Ini adalah salah satu tempat terbaik untuk bel...\n",
       "...               ... ..                                                ...\n",
       "2995           Wa hyu  5  Kenapa selalu muncul iklan, padahal aplikasi s...\n",
       "2996  Pengguna Google  3  Tolong dong.. sejak update memori penyimpanan ...\n",
       "2997  Pengguna Google  3  Saya senang banget berbelanja di bukalapak, se...\n",
       "2998  Pengguna Google  1  Aplikasi tidak berjalan.sudah di re instal tet...\n",
       "2999  Pengguna Google  2  Dana Hasil Penjualan Tidak bisa otomatis masuk...\n",
       "\n",
       "[3000 rows x 3 columns]"
      ]
     },
     "execution_count": 80,
     "metadata": {},
     "output_type": "execute_result"
    }
   ],
   "source": [
    "import numpy as np\n",
    "import pandas as pd\n",
    "\n",
    "# menampilkan data tanpa label\n",
    "dataframe_sentiment = pd.read_csv('dataset.csv', header=None)\n",
    "dataframe_sentiment\n",
    "# Menghilangkan"
   ]
  },
  {
   "cell_type": "code",
   "execution_count": 81,
   "metadata": {},
   "outputs": [
    {
     "name": "stdout",
     "output_type": "stream",
     "text": [
      "<class 'pandas.core.frame.DataFrame'>\n",
      "RangeIndex: 3000 entries, 0 to 2999\n",
      "Data columns (total 3 columns):\n",
      " #   Column  Non-Null Count  Dtype \n",
      "---  ------  --------------  ----- \n",
      " 0   0       3000 non-null   object\n",
      " 1   1       3000 non-null   int64 \n",
      " 2   2       3000 non-null   object\n",
      "dtypes: int64(1), object(2)\n",
      "memory usage: 70.4+ KB\n"
     ]
    }
   ],
   "source": [
    "dataframe_sentiment.info()\n",
    "# Menghilangkan"
   ]
  },
  {
   "cell_type": "code",
   "execution_count": 82,
   "metadata": {},
   "outputs": [
    {
     "data": {
      "text/html": [
       "<div>\n",
       "<style scoped>\n",
       "    .dataframe tbody tr th:only-of-type {\n",
       "        vertical-align: middle;\n",
       "    }\n",
       "\n",
       "    .dataframe tbody tr th {\n",
       "        vertical-align: top;\n",
       "    }\n",
       "\n",
       "    .dataframe thead th {\n",
       "        text-align: right;\n",
       "    }\n",
       "</style>\n",
       "<table border=\"1\" class=\"dataframe\">\n",
       "  <thead>\n",
       "    <tr style=\"text-align: right;\">\n",
       "      <th></th>\n",
       "      <th>Username</th>\n",
       "      <th>Score</th>\n",
       "      <th>Sentimen</th>\n",
       "    </tr>\n",
       "  </thead>\n",
       "  <tbody>\n",
       "    <tr>\n",
       "      <th>0</th>\n",
       "      <td>Kusyati Nisa</td>\n",
       "      <td>5</td>\n",
       "      <td>Mantaf skali mudah juga buat ikut pelatihan pr...</td>\n",
       "    </tr>\n",
       "    <tr>\n",
       "      <th>1</th>\n",
       "      <td>Nurul Latifah</td>\n",
       "      <td>5</td>\n",
       "      <td>keren buat beli kartu prakerjaa</td>\n",
       "    </tr>\n",
       "    <tr>\n",
       "      <th>2</th>\n",
       "      <td>Lukman Hadi</td>\n",
       "      <td>1</td>\n",
       "      <td>Lapak saya dibekukan, sudah komplain tidak ada...</td>\n",
       "    </tr>\n",
       "    <tr>\n",
       "      <th>3</th>\n",
       "      <td>Felisona Hulu</td>\n",
       "      <td>1</td>\n",
       "      <td>Benar2 mengecewakan.Respon sangat lama.pokok n...</td>\n",
       "    </tr>\n",
       "    <tr>\n",
       "      <th>4</th>\n",
       "      <td>Don faizal</td>\n",
       "      <td>5</td>\n",
       "      <td>Ini adalah salah satu tempat terbaik untuk bel...</td>\n",
       "    </tr>\n",
       "    <tr>\n",
       "      <th>...</th>\n",
       "      <td>...</td>\n",
       "      <td>...</td>\n",
       "      <td>...</td>\n",
       "    </tr>\n",
       "    <tr>\n",
       "      <th>2995</th>\n",
       "      <td>Wa hyu</td>\n",
       "      <td>5</td>\n",
       "      <td>Kenapa selalu muncul iklan, padahal aplikasi s...</td>\n",
       "    </tr>\n",
       "    <tr>\n",
       "      <th>2996</th>\n",
       "      <td>Pengguna Google</td>\n",
       "      <td>3</td>\n",
       "      <td>Tolong dong.. sejak update memori penyimpanan ...</td>\n",
       "    </tr>\n",
       "    <tr>\n",
       "      <th>2997</th>\n",
       "      <td>Pengguna Google</td>\n",
       "      <td>3</td>\n",
       "      <td>Saya senang banget berbelanja di bukalapak, se...</td>\n",
       "    </tr>\n",
       "    <tr>\n",
       "      <th>2998</th>\n",
       "      <td>Pengguna Google</td>\n",
       "      <td>1</td>\n",
       "      <td>Aplikasi tidak berjalan.sudah di re instal tet...</td>\n",
       "    </tr>\n",
       "    <tr>\n",
       "      <th>2999</th>\n",
       "      <td>Pengguna Google</td>\n",
       "      <td>2</td>\n",
       "      <td>Dana Hasil Penjualan Tidak bisa otomatis masuk...</td>\n",
       "    </tr>\n",
       "  </tbody>\n",
       "</table>\n",
       "<p>3000 rows × 3 columns</p>\n",
       "</div>"
      ],
      "text/plain": [
       "             Username  Score  \\\n",
       "0        Kusyati Nisa      5   \n",
       "1       Nurul Latifah      5   \n",
       "2         Lukman Hadi      1   \n",
       "3       Felisona Hulu      1   \n",
       "4          Don faizal      5   \n",
       "...               ...    ...   \n",
       "2995           Wa hyu      5   \n",
       "2996  Pengguna Google      3   \n",
       "2997  Pengguna Google      3   \n",
       "2998  Pengguna Google      1   \n",
       "2999  Pengguna Google      2   \n",
       "\n",
       "                                               Sentimen  \n",
       "0     Mantaf skali mudah juga buat ikut pelatihan pr...  \n",
       "1                       keren buat beli kartu prakerjaa  \n",
       "2     Lapak saya dibekukan, sudah komplain tidak ada...  \n",
       "3     Benar2 mengecewakan.Respon sangat lama.pokok n...  \n",
       "4     Ini adalah salah satu tempat terbaik untuk bel...  \n",
       "...                                                 ...  \n",
       "2995  Kenapa selalu muncul iklan, padahal aplikasi s...  \n",
       "2996  Tolong dong.. sejak update memori penyimpanan ...  \n",
       "2997  Saya senang banget berbelanja di bukalapak, se...  \n",
       "2998  Aplikasi tidak berjalan.sudah di re instal tet...  \n",
       "2999  Dana Hasil Penjualan Tidak bisa otomatis masuk...  \n",
       "\n",
       "[3000 rows x 3 columns]"
      ]
     },
     "execution_count": 82,
     "metadata": {},
     "output_type": "execute_result"
    }
   ],
   "source": [
    "dataframe_sentiment.columns = ['Username', 'Score', 'Sentimen']\n",
    "dataframe_sentiment\n"
   ]
  },
  {
   "cell_type": "code",
   "execution_count": 83,
   "metadata": {},
   "outputs": [
    {
     "data": {
      "text/html": [
       "<div>\n",
       "<style scoped>\n",
       "    .dataframe tbody tr th:only-of-type {\n",
       "        vertical-align: middle;\n",
       "    }\n",
       "\n",
       "    .dataframe tbody tr th {\n",
       "        vertical-align: top;\n",
       "    }\n",
       "\n",
       "    .dataframe thead th {\n",
       "        text-align: right;\n",
       "    }\n",
       "</style>\n",
       "<table border=\"1\" class=\"dataframe\">\n",
       "  <thead>\n",
       "    <tr style=\"text-align: right;\">\n",
       "      <th></th>\n",
       "      <th>Sentimen</th>\n",
       "    </tr>\n",
       "  </thead>\n",
       "  <tbody>\n",
       "    <tr>\n",
       "      <th>0</th>\n",
       "      <td>Mantaf skali mudah juga buat ikut pelatihan pr...</td>\n",
       "    </tr>\n",
       "    <tr>\n",
       "      <th>1</th>\n",
       "      <td>keren buat beli kartu prakerjaa</td>\n",
       "    </tr>\n",
       "    <tr>\n",
       "      <th>2</th>\n",
       "      <td>Lapak saya dibekukan, sudah komplain tidak ada...</td>\n",
       "    </tr>\n",
       "    <tr>\n",
       "      <th>3</th>\n",
       "      <td>Benar2 mengecewakan.Respon sangat lama.pokok n...</td>\n",
       "    </tr>\n",
       "    <tr>\n",
       "      <th>4</th>\n",
       "      <td>Ini adalah salah satu tempat terbaik untuk bel...</td>\n",
       "    </tr>\n",
       "    <tr>\n",
       "      <th>...</th>\n",
       "      <td>...</td>\n",
       "    </tr>\n",
       "    <tr>\n",
       "      <th>2995</th>\n",
       "      <td>Kenapa selalu muncul iklan, padahal aplikasi s...</td>\n",
       "    </tr>\n",
       "    <tr>\n",
       "      <th>2996</th>\n",
       "      <td>Tolong dong.. sejak update memori penyimpanan ...</td>\n",
       "    </tr>\n",
       "    <tr>\n",
       "      <th>2997</th>\n",
       "      <td>Saya senang banget berbelanja di bukalapak, se...</td>\n",
       "    </tr>\n",
       "    <tr>\n",
       "      <th>2998</th>\n",
       "      <td>Aplikasi tidak berjalan.sudah di re instal tet...</td>\n",
       "    </tr>\n",
       "    <tr>\n",
       "      <th>2999</th>\n",
       "      <td>Dana Hasil Penjualan Tidak bisa otomatis masuk...</td>\n",
       "    </tr>\n",
       "  </tbody>\n",
       "</table>\n",
       "<p>3000 rows × 1 columns</p>\n",
       "</div>"
      ],
      "text/plain": [
       "                                               Sentimen\n",
       "0     Mantaf skali mudah juga buat ikut pelatihan pr...\n",
       "1                       keren buat beli kartu prakerjaa\n",
       "2     Lapak saya dibekukan, sudah komplain tidak ada...\n",
       "3     Benar2 mengecewakan.Respon sangat lama.pokok n...\n",
       "4     Ini adalah salah satu tempat terbaik untuk bel...\n",
       "...                                                 ...\n",
       "2995  Kenapa selalu muncul iklan, padahal aplikasi s...\n",
       "2996  Tolong dong.. sejak update memori penyimpanan ...\n",
       "2997  Saya senang banget berbelanja di bukalapak, se...\n",
       "2998  Aplikasi tidak berjalan.sudah di re instal tet...\n",
       "2999  Dana Hasil Penjualan Tidak bisa otomatis masuk...\n",
       "\n",
       "[3000 rows x 1 columns]"
      ]
     },
     "execution_count": 83,
     "metadata": {},
     "output_type": "execute_result"
    }
   ],
   "source": [
    "# Menghilangkan Kolom Username, dan Score\n",
    "dataframe_sentiment = dataframe_sentiment.drop(['Username', 'Score'], axis=1)\n",
    "dataframe_sentiment.head()"
   ]
  },
  {
   "cell_type": "markdown",
   "metadata": {},
   "source": [
    "## **Tahapan Praproses**"
   ]
  },
  {
   "cell_type": "markdown",
   "metadata": {},
   "source": [
    "##### **Casefolding**"
   ]
  },
  {
   "cell_type": "code",
   "execution_count": 84,
   "metadata": {
    "scrolled": false
   },
   "outputs": [
    {
     "data": {
      "text/plain": [
       "0       mantaf skali mudah juga buat ikut pelatihan pr...\n",
       "1                         keren buat beli kartu prakerjaa\n",
       "2       lapak saya dibekukan, sudah komplain tidak ada...\n",
       "3       benar2 mengecewakan.respon sangat lama.pokok n...\n",
       "4       ini adalah salah satu tempat terbaik untuk bel...\n",
       "                              ...                        \n",
       "2995    kenapa selalu muncul iklan, padahal aplikasi s...\n",
       "2996    tolong dong.. sejak update memori penyimpanan ...\n",
       "2997    saya senang banget berbelanja di bukalapak, se...\n",
       "2998    aplikasi tidak berjalan.sudah di re instal tet...\n",
       "2999    dana hasil penjualan tidak bisa otomatis masuk...\n",
       "Name: Sentimen, Length: 3000, dtype: object"
      ]
     },
     "execution_count": 84,
     "metadata": {},
     "output_type": "execute_result"
    }
   ],
   "source": [
    "dataframe_sentiment = dataframe_sentiment['Sentimen'].str.lower()\n",
    "dataframe_sentiment.head()\n"
   ]
  },
  {
   "cell_type": "code",
   "execution_count": null,
   "metadata": {},
   "outputs": [],
   "source": []
  },
  {
   "cell_type": "markdown",
   "metadata": {},
   "source": [
    "##### **Filtering**"
   ]
  },
  {
   "cell_type": "code",
   "execution_count": null,
   "metadata": {},
   "outputs": [],
   "source": []
  },
  {
   "cell_type": "markdown",
   "metadata": {},
   "source": [
    "##### **Tokenisasi**"
   ]
  },
  {
   "cell_type": "markdown",
   "metadata": {},
   "source": [
    "##### **Normalisasi**"
   ]
  },
  {
   "cell_type": "markdown",
   "metadata": {},
   "source": [
    "##### **Stopword Removal**"
   ]
  },
  {
   "cell_type": "code",
   "execution_count": 85,
   "metadata": {},
   "outputs": [],
   "source": [
    "# from nltk.corpus import stopwords\n",
    "# stoplist = stopwords.words('english') + ['though']"
   ]
  },
  {
   "cell_type": "markdown",
   "metadata": {},
   "source": [
    "##### **Stemming**"
   ]
  },
  {
   "cell_type": "markdown",
   "metadata": {},
   "source": [
    "##### **Pembobotan**"
   ]
  },
  {
   "cell_type": "markdown",
   "metadata": {},
   "source": [
    "## **Word Embedding**"
   ]
  },
  {
   "cell_type": "code",
   "execution_count": null,
   "metadata": {},
   "outputs": [],
   "source": []
  },
  {
   "cell_type": "code",
   "execution_count": null,
   "metadata": {},
   "outputs": [],
   "source": []
  },
  {
   "cell_type": "code",
   "execution_count": null,
   "metadata": {},
   "outputs": [],
   "source": []
  },
  {
   "cell_type": "code",
   "execution_count": null,
   "metadata": {},
   "outputs": [],
   "source": []
  },
  {
   "cell_type": "code",
   "execution_count": null,
   "metadata": {},
   "outputs": [],
   "source": []
  },
  {
   "cell_type": "code",
   "execution_count": null,
   "metadata": {},
   "outputs": [],
   "source": []
  },
  {
   "cell_type": "code",
   "execution_count": null,
   "metadata": {},
   "outputs": [],
   "source": []
  },
  {
   "cell_type": "code",
   "execution_count": null,
   "metadata": {},
   "outputs": [],
   "source": []
  },
  {
   "cell_type": "code",
   "execution_count": null,
   "metadata": {},
   "outputs": [],
   "source": []
  },
  {
   "cell_type": "code",
   "execution_count": null,
   "metadata": {},
   "outputs": [],
   "source": []
  },
  {
   "cell_type": "code",
   "execution_count": null,
   "metadata": {},
   "outputs": [],
   "source": []
  },
  {
   "cell_type": "code",
   "execution_count": null,
   "metadata": {},
   "outputs": [],
   "source": []
  }
 ],
 "metadata": {
  "kernelspec": {
   "display_name": "Python 3 (ipykernel)",
   "language": "python",
   "name": "python3"
  },
  "language_info": {
   "codemirror_mode": {
    "name": "ipython",
    "version": 3
   },
   "file_extension": ".py",
   "mimetype": "text/x-python",
   "name": "python",
   "nbconvert_exporter": "python",
   "pygments_lexer": "ipython3",
   "version": "3.9.2"
  },
  "vscode": {
   "interpreter": {
    "hash": "d4207fd432cc560aca04b0a16cef6d60c01abe0f8dc4175e439d703ae4fa418f"
   }
  }
 },
 "nbformat": 4,
 "nbformat_minor": 2
}
